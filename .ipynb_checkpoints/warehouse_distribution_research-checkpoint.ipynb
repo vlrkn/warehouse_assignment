{
 "cells": [
  {
   "cell_type": "markdown",
   "id": "southwest-alaska",
   "metadata": {},
   "source": [
    "# Rider assignment algorithm\n",
    "\n",
    "See [here](https://en.wikipedia.org/wiki/Assignment_problem) for more details\n",
    "\n",
    "## Variables\n",
    "\n",
    "Let there be **r** rider and **w** warehouse.\n",
    "\n",
    "Let **Nr** and **Nw** be respectively the total number of riders and warehouses.\n",
    "\n",
    "The decision variable:\n",
    "\n",
    "  X_rw is:\n",
    "  - 1 if rider r is assigned to warehouse w\n",
    "  - 0 otherwise\n",
    "\n",
    "Let **Limit_w** be the number of riders that warehouse w needs.\n",
    "\n",
    "Let **Wr** the list of warehouse preferences for rider r \n",
    "\n",
    "## Handling Riders Preferences\n",
    "\n",
    "We can handle each rider's preference through the costs (objective)\n",
    "\n",
    "Let **C_rw** be the 'cost' of assigning rider r to warehouse w.\n",
    "\n",
    "We make the cost higher as the preference decreases.\n",
    "\n",
    "C_rw is :\n",
    "- 0 if w is in Wr\n",
    "- (sum over Wr) distance(w, Wr) / len(Wr) otherwise (average distance to preferences)\n",
    "\n",
    "Of course if the warehouse is the only one in a city, we don't consider preferences.\n",
    "\n",
    "## Formulation\n",
    "\n",
    "**Min (sum over r)(sum over w) C_rw X_rw**\n",
    "\n",
    "subject to:\n",
    "\n",
    "- (sum over w) X_rw = {0, 1} for each rider r:  Every rider is assigned at the most once or is non assigned to a warehouse\n",
    "- (sum over r) X_rw <= Limit_w: Every warehouse should have at most its need as number of riders assigned\n",
    "- (sum over r) X_rw >= (Limit_w * rratio) - 1 with rratio = sum(Limit_wi)/Nr (overall need coverage by total number of riders)  for each warehouse w:  Every warehouse should have at least so many riders\n",
    "\n",
    "\n",
    "## What do we use to solve this\n",
    "\n",
    "Or tools from Google (see [here](https://developers.google.com/optimization/mip/integer_opt) and [here](https://developers.google.com/optimization/mip/mip))\n",
    "\n"
   ]
  },
  {
   "cell_type": "markdown",
   "id": "nervous-species",
   "metadata": {},
   "source": [
    "## Import libraries"
   ]
  },
  {
   "cell_type": "code",
   "execution_count": null,
   "id": "bfa7e75b",
   "metadata": {
    "ExecuteTime": {
     "end_time": "2021-06-04T13:35:37.333895Z",
     "start_time": "2021-06-04T13:35:31.109883Z"
    }
   },
   "outputs": [],
   "source": [
    "from datetime import datetime, date, timedelta\n",
    "import pandas as pd\n",
    "import time\n",
    "from collections import defaultdict\n",
    "from ortools.linear_solver import pywraplp\n",
    "\n",
    "import gspread\n",
    "from gspread_dataframe import set_with_dataframe\n",
    "pd.options.mode.chained_assignment = None  # default='warn'"
   ]
  },
  {
   "cell_type": "markdown",
   "id": "02f03e27",
   "metadata": {},
   "source": [
    "## WarehouseAssigner"
   ]
  },
  {
   "cell_type": "code",
   "execution_count": 1,
   "id": "funky-discount",
   "metadata": {
    "ExecuteTime": {
     "end_time": "2021-06-04T13:35:37.333895Z",
     "start_time": "2021-06-04T13:35:31.109883Z"
    }
   },
   "outputs": [
    {
     "name": "stdout",
     "output_type": "stream",
     "text": [
      "No forecast for w20 in Cologne\n",
      "No forecast for w20 in Munich\n",
      "No forecast for w20 in Hamburg\n",
      "No forecast for w20 in Berlin\n",
      "No forecast for w20 in Dresden\n",
      "No forecast for w20 in Offenbach\n",
      "No forecast for w20 in Frankfurt\n",
      "No forecast for w20 in Bremen\n",
      "No forecast for w20 in Düsseldorf\n",
      "No forecast for w20 in Bonn\n",
      "No forecast for w20 in Stuttgart\n",
      "No forecast for w20 in Hanover\n",
      "No forecast for w20 in Leipzig\n",
      "No forecast for w20 in Karlsruhe\n",
      "No forecast for w20 in Fürth\n",
      "No forecast for w20 in Nürnberg\n",
      "No forecast for w20 in Heidelberg\n",
      "No forecast for w20 in Gelsenkirchen\n",
      "No forecast for w20 in Bochum\n",
      "No forecast for w20 in Dortmund\n",
      "No forecast for w20 in Essen\n",
      "No forecast for w20 in Augsburg\n",
      "No forecast for w21 in Cologne\n",
      "No forecast for w21 in Munich\n",
      "No forecast for w21 in Hamburg\n",
      "No forecast for w21 in Berlin\n",
      "No forecast for w21 in Dresden\n",
      "No forecast for w21 in Offenbach\n",
      "No forecast for w21 in Frankfurt\n",
      "No forecast for w21 in Bremen\n",
      "No forecast for w21 in Düsseldorf\n",
      "No forecast for w21 in Bonn\n",
      "No forecast for w21 in Stuttgart\n",
      "No forecast for w21 in Hanover\n",
      "No forecast for w21 in Leipzig\n",
      "No forecast for w21 in Karlsruhe\n",
      "No forecast for w21 in Fürth\n",
      "No forecast for w21 in Nürnberg\n",
      "No forecast for w21 in Heidelberg\n",
      "No forecast for w21 in Gelsenkirchen\n",
      "No forecast for w21 in Bochum\n",
      "No forecast for w21 in Dortmund\n",
      "No forecast for w21 in Essen\n",
      "No forecast for w21 in Augsburg\n",
      "No forecast for w22 in Cologne\n",
      "No forecast for w22 in Munich\n",
      "No forecast for w22 in Hamburg\n",
      "No forecast for w22 in Berlin\n",
      "No forecast for w22 in Dresden\n",
      "No forecast for w22 in Offenbach\n",
      "No forecast for w22 in Frankfurt\n",
      "No forecast for w22 in Bremen\n",
      "No forecast for w22 in Düsseldorf\n",
      "No forecast for w22 in Bonn\n",
      "No forecast for w22 in Stuttgart\n",
      "No forecast for w22 in Hanover\n",
      "No forecast for w22 in Leipzig\n",
      "No forecast for w22 in Karlsruhe\n",
      "No forecast for w22 in Fürth\n",
      "No forecast for w22 in Nürnberg\n",
      "No forecast for w22 in Heidelberg\n",
      "No forecast for w22 in Gelsenkirchen\n",
      "No forecast for w22 in Bochum\n",
      "No forecast for w22 in Dortmund\n",
      "No forecast for w22 in Essen\n",
      "No forecast for w22 in Augsburg\n",
      "No riders for w23 in Cologne\n",
      "No riders for w23 in Munich\n",
      "No riders for w23 in Hamburg\n",
      "No riders for w23 in Berlin\n",
      "No forecast for w23 in Dresden\n",
      "No forecast for w23 in Offenbach\n",
      "No forecast for w23 in Frankfurt\n",
      "No riders for w23 in Bremen\n",
      "No forecast for w23 in Düsseldorf\n",
      "No forecast for w23 in Bonn\n",
      "No forecast for w23 in Stuttgart\n",
      "No forecast for w23 in Hanover\n",
      "No forecast for w23 in Leipzig\n",
      "No forecast for w23 in Karlsruhe\n",
      "No forecast for w23 in Fürth\n",
      "No forecast for w23 in Nürnberg\n",
      "No riders for w23 in Heidelberg\n",
      "No riders for w23 in Gelsenkirchen\n",
      "No forecast for w23 in Bochum\n",
      "No riders for w23 in Dortmund\n",
      "No riders for w23 in Essen\n",
      "No forecast for w23 in Augsburg\n",
      "No forecast for w24 in Cologne\n",
      "No riders for w24 in Munich\n",
      "No forecast for w24 in Hamburg\n",
      "No forecast for w24 in Berlin\n",
      "No forecast for w24 in Dresden\n",
      "No forecast for w24 in Offenbach\n",
      "No forecast for w24 in Frankfurt\n",
      "No forecast for w24 in Bremen\n",
      "No forecast for w24 in Düsseldorf\n",
      "No forecast for w24 in Bonn\n",
      "No forecast for w24 in Stuttgart\n",
      "No forecast for w24 in Hanover\n",
      "No forecast for w24 in Leipzig\n",
      "No forecast for w24 in Karlsruhe\n",
      "No forecast for w24 in Fürth\n",
      "No forecast for w24 in Nürnberg\n",
      "No riders for w24 in Heidelberg\n",
      "No riders for w24 in Gelsenkirchen\n",
      "No forecast for w24 in Bochum\n",
      "No riders for w24 in Dortmund\n",
      "No riders for w24 in Essen\n",
      "No forecast for w24 in Augsburg\n"
     ]
    }
   ],
   "source": [
    "class WarehouseAssigner:\n",
    "    \n",
    "    def __init__(self, spreadsheet_id):\n",
    "        self.today = date.today()\n",
    "        self.spreadsheet_id = spreadsheet_id\n",
    "        self.df_forecast = None\n",
    "        self.df_riders = None\n",
    "        self.df_distance = None\n",
    "        self.df_stage_id = None\n",
    "        self.df_holiday = None\n",
    "        self.df_already_assigned = None\n",
    "        self.date_assigned_output = pd.DataFrame(columns=['ID', 'key', 'value'])\n",
    "        self.warehouse_assigned_output = pd.DataFrame(columns=['ID', 'key', 'value'])\n",
    "        self.stage_update_output = pd.DataFrame(columns=['id', 'destination'])\n",
    "        self.riders_score_log_output = pd.DataFrame(columns=['Rider external ID', 'Rider email', 'Score'])\n",
    "\n",
    "    def get_spreadsheets(self,\n",
    "                         riders_sheet_name, \n",
    "                         forecast_sheet_name, \n",
    "                         distance_sheet_name,\n",
    "                        index_stage_id_sheet_name,\n",
    "                        holiday_sheet_name,\n",
    "                        opening_sheet_name,\n",
    "                        warehouse_assigned_sheet_name,\n",
    "                        date_assigned_sheet_name\n",
    "                        ):\n",
    "        \n",
    "        # Auth to google\n",
    "        gc = gspread.oauth()\n",
    "        \n",
    "        # Open spreadsheet\n",
    "        sh = gc.open_by_key(spreadsheet_id)\n",
    "\n",
    "        # Load worksheet data\n",
    "        riders_worksheet = sh.worksheet(riders_sheet_name)\n",
    "        forecast_worksheet = sh.worksheet(forecast_sheet_name)\n",
    "        distance_worksheet = sh.worksheet(distance_sheet_name)\n",
    "        stage_id_worksheet = sh.worksheet(index_stage_id_sheet_name)\n",
    "        holiday_worksheet = sh.worksheet(holiday_sheet_name)\n",
    "        opening_worksheet = sh.worksheet(opening_sheet_name)\n",
    "        \n",
    "        warehouse_assigned_worksheet = sh.worksheet(warehouse_assigned_sheet_name)\n",
    "        date_assigned_worksheet = sh.worksheet(date_assigned_sheet_name)\n",
    "\n",
    "        riders_data = riders_worksheet.get_all_values()\n",
    "        headers = riders_data.pop(0)\n",
    "        self.df_riders = pd.DataFrame(riders_data, columns=headers)\n",
    "\n",
    "        forecast_data = forecast_worksheet.get_all_values()\n",
    "        headers = forecast_data.pop(0)\n",
    "        self.df_forecast = pd.DataFrame(forecast_data, columns=headers)\n",
    "\n",
    "        distance_data = distance_worksheet.get_all_values()\n",
    "        headers = distance_data.pop(0)\n",
    "        self.df_distance = pd.DataFrame(distance_data, columns=headers)\n",
    "\n",
    "        stage_id_data = stage_id_worksheet.get_all_values()\n",
    "        headers = stage_id_data.pop(0)\n",
    "        self.df_stage_id = pd.DataFrame(stage_id_data, columns=headers)\n",
    "        \n",
    "        holiday_data = holiday_worksheet.get_all_values()\n",
    "        headers = holiday_data.pop(0)\n",
    "        self.df_holiday = pd.DataFrame(holiday_data, columns=headers)\n",
    "        \n",
    "        opening_data = opening_worksheet.get_all_values()\n",
    "        headers = opening_data.pop(0)\n",
    "        self.df_opening = pd.DataFrame(opening_data, columns=headers)\n",
    "        \n",
    "        warehouse_assigned_data = warehouse_assigned_worksheet.get_all_values()\n",
    "        headers = warehouse_assigned_data.pop(0)\n",
    "        df_warehouse_assigned = pd.DataFrame(warehouse_assigned_data, columns=headers).loc[:, ['ID', 'value']]\n",
    "        df_warehouse_assigned.rename(columns={\n",
    "                                        \"ID\":\"External\",\n",
    "                                        \"value\":\"start_date\"\n",
    "                                     }, \n",
    "                                     inplace=True)\n",
    "        \n",
    "        date_assigned_data = date_assigned_worksheet.get_all_values()\n",
    "        headers = date_assigned_data.pop(0)\n",
    "        df_date_assigned = pd.DataFrame(date_assigned_data, columns=headers).loc[:, ['ID', 'value']]\n",
    "        df_date_assigned.rename(columns={\n",
    "                                    \"ID\":\"External\",\n",
    "                                    \"value\":\"Warehouse\"\n",
    "                                }, \n",
    "                                inplace=True)\n",
    "        \n",
    "        self.df_already_assigned = pd.merge(df_warehouse_assigned, df_date_assigned, how=\"inner\", on=[\"External\"])\n",
    "        \n",
    "    def validate_inputs(self):\n",
    "        # Check for duplicate riders in rider sheet\n",
    "        duplicated = self.df_riders[['External']].duplicated()\n",
    "        if duplicated.any():\n",
    "            raise NameError('Duplicated riders: {}',\n",
    "                            self.df_riders.loc[duplicated, ['External']])\n",
    "            \n",
    "        # Check for duplicate in forecast sheet\n",
    "        duplicated = self.df_forecast[['City', 'Warehouse', 'Week']].duplicated()\n",
    "        if duplicated.any():\n",
    "            raise NameError('City, warehouse, week with multiple forecast: {}',\n",
    "                            self.df_forecast.loc[duplicated, ['City', 'Warehouse', 'Week']])\n",
    "\n",
    "        # Check for duplicate in opening sheet\n",
    "        duplicated = self.df_opening[['City', 'Warehouse']].duplicated()\n",
    "        if duplicated.any():\n",
    "            raise NameError('City, warehouse with multi opening dates: {}',\n",
    "                            self.df_opening.loc[duplicated, ['City', 'Warehouse']])\n",
    "            \n",
    "        diff = set(list(zip(self.df_opening.City, self.df_opening.Warehouse))) - set(list(zip(self.df_forecast.City, self.df_forecast.Warehouse)))    \n",
    "        if len(diff) > 0:\n",
    "            raise NameError('Couples (City, Warehouse) with opening date missing in forecast: {}'.format(diff))\n",
    "        \n",
    "        \n",
    "        \n",
    "        \n",
    "    def preprocess_forecast(self):\n",
    "     \n",
    "        # Init assigned columns\n",
    "        self.df_forecast['Assigned'].replace('', 0, inplace=True)\n",
    "        self.df_forecast['Need'].replace('', 0, inplace=True)\n",
    "        \n",
    "        # Force type\n",
    "        self.df_forecast = self.df_forecast.astype({'Warehouse': str,\n",
    "                                                    'City': str,\n",
    "                                                    'Week': int,\n",
    "                                                    #'Minijob only': str,\n",
    "                                                   'Need': int,\n",
    "                                                   'Assigned': int})\n",
    "        # Remove week from the past\n",
    "        #self.df_forecast = self.df_forecast.loc[self.df_forecast.Week >= self.today.isocalendar()[1]]\n",
    "        \n",
    "        #self.df_forecast['Minijob only'] = self.df_forecast['Minijob only'].apply(lambda x: 1 if x == 'yes' else 0)\n",
    "        \n",
    "        self.df_forecast['Left'] = self.df_forecast['Need'] - self.df_forecast['Assigned']\n",
    "        \n",
    "        # Get assigned date for each Week\n",
    "        weekdays = dict()\n",
    "        for week in set(self.df_forecast.Week):\n",
    "            # Get weekdays\n",
    "            startdate = time.asctime(time.strptime('2021 %d 1' % week, '%Y %W %w')) \n",
    "            startdate = datetime.strptime(startdate, '%a %b %d %H:%M:%S %Y') \n",
    "            dates = [startdate.strftime('%Y-%m-%d')] \n",
    "            for i in range(1, 7): \n",
    "                day = startdate + timedelta(days=i)\n",
    "                dates.append(day)\n",
    "            weekdays[week] = dates\n",
    "            \n",
    "        # Max date of the week is Saturday\n",
    "        self.df_forecast['max_date_to_assign'] = pd.to_datetime(self.df_forecast.apply(\n",
    "            lambda row: weekdays[row['Week']][5], axis=1))\n",
    "        \n",
    "        # Merge opening date\n",
    "        #self.df_opening['Opening date'] = pd.to_datetime(self.df_opening['Opening date'])\n",
    "        self.df_forecast = pd.merge(self.df_forecast, self.df_opening, how=\"left\", on=[\"City\", \"Warehouse\"])\n",
    "        \n",
    "        # Min date of the week is Monday or opening date for warehouse opening during the week\n",
    "        self.df_forecast.loc[:, 'min_date_to_assign'] = pd.to_datetime(self.df_forecast.apply(\n",
    "            lambda row: max(weekdays[row['Week']][0], row['Opening date']) if pd.notnull(row['Opening date']) else weekdays[row['Week']][0], axis=1))\n",
    "        \n",
    "        self.df_forecast['forecast_id'] = self.df_forecast['Week'].astype(str)+self.df_forecast['Warehouse']\n",
    "        \n",
    "        # Set index on warehouse name\n",
    "        self.df_forecast.set_index('forecast_id', inplace=True)\n",
    "        self.df_forecast.sort_index(inplace=True)\n",
    "\n",
    "        \n",
    "    def get_next_working_day(self, date, city, office=True):\n",
    "        \"\"\"\n",
    "        Get the date if it is working day or the next working date, for office or warehouse\n",
    "        Closed date -> Sunday or holiday\n",
    "        For office, also Saturday\n",
    "        For riders, also on the 14th and 15th (we can't make a rider start on those dates)\n",
    "        \"\"\"\n",
    "        # Saturday -> Monday\n",
    "        if office and date.weekday() == 5:\n",
    "            return self.get_next_working_day(date + timedelta(days=2), city, office)\n",
    "        # Sunday -> Monday\n",
    "        elif date.weekday() == 6:\n",
    "            return self.get_next_working_day(date + timedelta(days=1), city, office)\n",
    "        # 14th or 15th of the month -> 16th\n",
    "        elif ~office and date.day in (14, 15):\n",
    "            return self.get_next_working_day(date + timedelta(days=16-date.day), city, office)\n",
    "        # holiday -> d+1\n",
    "        elif date in self.df_holiday.loc[self.df_holiday.City == city, 'Public holiday'].tolist():\n",
    "            return self.get_next_working_day(date + timedelta(days=1), city, office)\n",
    "        else:\n",
    "            return date\n",
    "        \n",
    "        \n",
    "    def preprocess_riders(self):\n",
    "        # Filter out riders without info\n",
    "        self.df_riders.dropna(how='all', inplace=True)\n",
    "        \n",
    "        # Filter out riders from other cities than Berlin\n",
    "        self.df_riders = self.df_riders.loc[(self.df_riders['Contract data check'] == 'TRUE')]\n",
    "        \n",
    "        # Extract city from position\n",
    "        self.df_riders['City'] = self.df_riders['Position'].str.replace(' - Bike Crew Member', '')\n",
    "        \n",
    "        self.df_riders.loc[: , 'Warehouse location preference'] = self.df_riders.apply(\n",
    "            lambda x : ', '.join([\n",
    "            pref.strip() for pref in x['Warehouse location preference'].split(',') if pref.strip() in self.df_forecast.loc[self.df_forecast.City == x['City'], \"Warehouse\"].tolist()\n",
    "        ]), axis = 1\n",
    "        )\n",
    "        \n",
    "        # 2 office open days before assignment possible\n",
    "        earliest_starting_date_from_now = self.get_next_working_day(self.today + timedelta(days=1),\n",
    "                                                                    \"Berlin\",\n",
    "                                                                    office=True)\n",
    "        earliest_starting_date_from_now = self.get_next_working_day(earliest_starting_date_from_now,\n",
    "                                                                    \"Berlin\",\n",
    "                                                                    office=False)\n",
    "        # Fill null value with earliest starting date\n",
    "        self.df_riders['Earliest start date'] = self.df_riders['Earliest start date'].fillna(value=earliest_starting_date_from_now)\n",
    "        # Set to d+2 or d+4 if before earliest starting date\n",
    "        self.df_riders.loc[: , 'Earliest start date'] = pd.to_datetime(self.df_riders['Earliest start date']).apply(\n",
    "            lambda d: d if d >= earliest_starting_date_from_now else earliest_starting_date_from_now)\n",
    "        \n",
    "        self.df_holiday.loc[: , 'Public holiday'] = pd.to_datetime(self.df_holiday['Public holiday'])\n",
    "        \n",
    "        # Get valid start date for riders (no 14th, 15th, holiday or sunday)\n",
    "        self.df_riders.loc[: , 'Earliest start date'] = self.df_riders.apply(\n",
    "                                                        lambda row : self.get_next_working_day(\n",
    "                                                                    row['Earliest start date'] + timedelta(days=1),\n",
    "                                                                    row['City'],\n",
    "                                                                    office=False\n",
    "                                                        ),\n",
    "                                                        axis=1)\n",
    "        \n",
    "        \n",
    "        # Count number of preferences and add a column for this feature\n",
    "        self.df_riders['nr_preferences'] = self.df_riders[\n",
    "            'Warehouse location preference'].apply(lambda x: len(x.split(',')))\n",
    "        \n",
    "        # Set index on External / rider id\n",
    "        self.df_riders.set_index('External', inplace = True)\n",
    "\n",
    "    def preprocess_distance(self):\n",
    "        # drop warehouses couple without distance assigned\n",
    "        self.df_distance.dropna(subset=['Distance in min'], inplace=True)\n",
    "\n",
    "        # Format warehouse name without special character\n",
    "        #self.df_distance['WH1'] = self.df_distance['WH1'].str.replace(r' \\|.*', '').str.upper()\n",
    "        #self.df_distance['WH2'] = self.df_distance['WH2'].str.replace(r' \\|.*', '').str.upper()\n",
    "\n",
    "        # Set distance in min type as float\n",
    "        self.df_distance.loc[: , 'Distance in min'] = self.df_distance['Distance in min'].astype(float)\n",
    "\n",
    "    def preprocess_stage_id(self):\n",
    "        city_map = {\n",
    "             'Dsseldorf':'Düsseldorf',\n",
    "             'Kln':'Cologne',\n",
    "             'Mnich':'Munich',\n",
    "             'Nrnberg':'Nürnberg'\n",
    "            }\n",
    "\n",
    "        self.df_stage_id.loc[: , 'City'] = self.df_stage_id['City'].apply(lambda x: city_map[x] if x in city_map.keys() else x)\n",
    "        \n",
    "    def get_inputs(self,\n",
    "                    riders_sheet_name, \n",
    "                    forecast_sheet_name, \n",
    "                    distance_sheet_name,\n",
    "                    index_stage_id_sheet_name,\n",
    "                    holiday_sheet_name,\n",
    "                    opening_sheet_name,\n",
    "                    warehouse_assigned_sheet_name,\n",
    "                    date_assigned_sheet_name):\n",
    "        \n",
    "        self.get_spreadsheets(riders_sheet_name, \n",
    "                            forecast_sheet_name, \n",
    "                            distance_sheet_name,\n",
    "                            index_stage_id_sheet_name,\n",
    "                            holiday_sheet_name,\n",
    "                            opening_sheet_name,\n",
    "                            warehouse_assigned_sheet_name,\n",
    "                            date_assigned_sheet_name)\n",
    "        \n",
    "        self.validate_inputs()\n",
    "        \n",
    "        self.preprocess_forecast()\n",
    "        self.preprocess_riders()\n",
    "        self.preprocess_distance()\n",
    "        self.preprocess_stage_id()\n",
    "        \n",
    "        missing_cities_in_stage_id = set(self.df_forecast.City.unique()) - set(self.df_stage_id.City.tolist())\n",
    "        \n",
    "        if missing_cities_in_stage_id:\n",
    "            print(\"City missing in stage id sheet: \", missing_cities_in_stage_id)\n",
    "            \n",
    "        warehouses_not_single_per_city = self.df_forecast.groupby([\"City\", \"Week\"]).filter(lambda x: len(x) > 1)['Warehouse']\n",
    "        warehouses_missing_in_distance = (set(warehouses_not_single_per_city) - set(self.df_distance.WH1.tolist())).union(set(warehouses_not_single_per_city) - set(self.df_distance.WH2.tolist()))\n",
    "        \n",
    "        if warehouses_missing_in_distance:\n",
    "            print(\"Warehouse missing in distance sheet: \", warehouses_missing_in_distance)\n",
    "            \n",
    "        wrong_warehouses_in_distance = (set(self.df_distance.WH1.tolist())).union(set(self.df_distance.WH2.tolist())) - set(warehouses_not_single_per_city)\n",
    "\n",
    "        if wrong_warehouses_in_distance:\n",
    "            print(\"Warehouse misspelled in distance sheet: \", wrong_warehouses_in_distance)\n",
    "    \n",
    "\n",
    "    def rider_pref_score(self, row, df_forecast):\n",
    "        d = defaultdict(int)\n",
    "        \n",
    "        if row['Warehouse location preference']:\n",
    "            warehouse_prefs = [pref.strip() for pref in row['Warehouse location preference'].split(',')]\n",
    "        else:\n",
    "            warehouse_prefs = []\n",
    "\n",
    "        # Iterate over the warehouses\n",
    "        for index, w in df_forecast.iterrows():\n",
    "            \n",
    "            # If warehouse is not in the pref warehouses, assign average distance to\n",
    "            if warehouse_prefs and not w['Warehouse'] in warehouse_prefs:\n",
    "                distance = self.df_distance.loc[\n",
    "                    (self.df_distance.WH1 == w['Warehouse']) &\n",
    "                    (self.df_distance.WH2.isin(warehouse_prefs)), 'Distance in min']\n",
    "                if distance.empty:\n",
    "                    distance = self.df_distance.loc[\n",
    "                    (self.df_distance.WH2 == w['Warehouse']) &\n",
    "                    (self.df_distance.WH1.isin(warehouse_prefs)), 'Distance in min']\n",
    "                d[index] = 100 / distance.mean()\n",
    "            else:\n",
    "                d[index] = 100\n",
    "        return pd.Series(d)\n",
    "        \n",
    "    \n",
    "    def compute_pref_score(self, forecast, riders):  \n",
    "        \n",
    "        df_preferences = riders.apply(lambda x: self.rider_pref_score(x, forecast), axis=1)\n",
    "        df_preferences = df_preferences.reindex(sorted(df_preferences.columns), axis=1)\n",
    "        \n",
    "        return df_preferences\n",
    "        \n",
    "        \n",
    "    def solve_riders_assignment(self, forecast, riders, preferences):\n",
    "        \n",
    "        solver = pywraplp.Solver('SolveAssignmentProblemMIP',\n",
    "                               pywraplp.Solver.CBC_MIXED_INTEGER_PROGRAMMING)\n",
    "\n",
    "        cost = preferences.values.tolist()\n",
    "\n",
    "        limit_w = forecast['Left']\n",
    "\n",
    "        num_riders = len(cost)\n",
    "        num_warehouses = len(cost[0])\n",
    "\n",
    "        x = {}\n",
    "\n",
    "        for i in range(num_riders):\n",
    "            for j in range(num_warehouses):\n",
    "                x[i, j] = solver.BoolVar('x[%i,%i]' % (i, j))\n",
    "\n",
    "        solver.Maximize(solver.Sum([cost[i][j] * x[i,j] for i in range(num_riders)\n",
    "                                                          for j in range(num_warehouses)]))\n",
    "\n",
    "        # Each rider is assigned to at most 1 task.\n",
    "        for i in range(num_riders):\n",
    "            solver.Add(solver.Sum([x[i, j] for j in range(num_warehouses)]) <= 1)\n",
    "\n",
    "\n",
    "        # Each warehouse has at most left needs riders assigned\n",
    "        for j in range(num_warehouses):\n",
    "            solver.Add(solver.Sum([x[i, j] for i in range(num_riders)]) <= limit_w[j])\n",
    "\n",
    "        # Each warehouse has at least some riders assigned\n",
    "        for j in range(num_warehouses):\n",
    "            lower_limit = (limit_w[j]*min(num_riders/sum(limit_w), 1)) // 1\n",
    "            solver.Add(solver.Sum([x[i, j] for i in range(num_riders)]) >= lower_limit)\n",
    "    \n",
    "        sol = solver.Solve()\n",
    "\n",
    "        res = []\n",
    "        for i in range(num_riders):\n",
    "            for j in range(num_warehouses):\n",
    "                if x[i, j].solution_value() > 0:\n",
    "\n",
    "                    start_date = max(forecast.loc[[preferences.columns[j]], 'min_date_to_assign'].tolist()[0],\n",
    "                                     riders.loc[[preferences.index[i]], 'Earliest start date'].tolist()[0])\n",
    "                    res.append({\n",
    "                        'rider_id': preferences.index[i],\n",
    "                        'forecast_id': preferences.columns[j],\n",
    "                        'warehouse': forecast.loc[[preferences.columns[j]], 'Warehouse'].tolist()[0],\n",
    "                        'start_date': start_date,\n",
    "                        'cost': cost[i][j],\n",
    "                        'email': riders.loc[[preferences.index[i]], 'Email'].tolist()[0]\n",
    "                               })\n",
    "        df_assigned = pd.DataFrame(res)\n",
    "\n",
    "        \n",
    "        return df_assigned\n",
    "\n",
    "\n",
    "    def update_output(self, df_assigned):\n",
    "\n",
    "        batch_date_assigned = df_assigned[['rider_id', 'start_date']]\n",
    "        batch_date_assigned.loc[:, 'key'] = 'earliest_start_date'\n",
    "        batch_date_assigned.rename(columns={'rider_id': 'ID',\n",
    "                               'start_date': 'value'}, inplace=True)\n",
    "        batch_date_assigned = batch_date_assigned[['ID', 'key', 'value']]\n",
    "        batch_date_assigned.loc[:, 'value'] = batch_date_assigned.value.astype(str)\n",
    "        self.date_assigned_output = self.date_assigned_output.append(batch_date_assigned, ignore_index=True)\n",
    "        \n",
    "        batch_warehouse_assigned = df_assigned[['rider_id', 'warehouse']]\n",
    "        batch_warehouse_assigned.loc[:, 'key'] = 'warehouse_location_preference'\n",
    "        batch_warehouse_assigned.rename(columns={'rider_id': 'ID',\n",
    "                                       'warehouse': 'value'}, inplace=True)\n",
    "        self.warehouse_assigned_output = self.warehouse_assigned_output.append(batch_warehouse_assigned)\n",
    "        \n",
    "        batch_stage_update = df_assigned[['rider_id', 'destination']]\n",
    "        batch_stage_update.rename(columns={'rider_id': 'id'}, inplace=True)\n",
    "        self.stage_update_output = self.stage_update_output.append(batch_stage_update,\n",
    "                                                                    ignore_index=True)\n",
    "        \n",
    "        batch_riders_score_log = df_assigned[['rider_id', 'email', 'cost']]\n",
    "        batch_riders_score_log.rename(columns={'rider_id': 'Rider external ID',\n",
    "                                                       'email': 'Rider email',\n",
    "                                                       'cost': 'Score'}, inplace=True)\n",
    "        self.riders_score_log_output = self.riders_score_log_output.append(batch_riders_score_log,\n",
    "                                                                               ignore_index=True)\n",
    "        \n",
    "        assignment_counts = df_assigned.forecast_id.value_counts()\n",
    "        assignment_counts = assignment_counts.to_frame().rename(columns={'forecast_id': 'Assigned'})\n",
    "        self.df_forecast.Assigned = self.df_forecast.apply(\n",
    "            lambda x: (x['Assigned'] if x.name not in assignment_counts.index else x['Assigned']+assignment_counts.at[x.name, 'Assigned']), axis=1)\n",
    "    \n",
    "    \n",
    "    \n",
    "    def assign_single_warehouse_in_city(self, forecast, riders):\n",
    "        res = []\n",
    "        forecast_id = forecast.first_valid_index()\n",
    "        left_need = forecast.at[forecast_id, 'Left']\n",
    "        warehouse = forecast.at[forecast_id, 'Warehouse']\n",
    "        for index, rider in riders.head(left_need).iterrows():\n",
    "            start_date = max(forecast.at[forecast_id, 'min_date_to_assign'],\n",
    "                            rider['Earliest start date'])\n",
    "            res.append({'rider_id': index,\n",
    "                'forecast_id': forecast_id,\n",
    "                'warehouse': warehouse,\n",
    "                'start_date': start_date,\n",
    "                'cost': 100,\n",
    "                'email': riders['Email']})\n",
    "            \n",
    "        df_assigned = pd.DataFrame(res)\n",
    "        return df_assigned\n",
    "                            \n",
    "        \n",
    "    def assign_riders(self):\n",
    "        for week in self.df_forecast.Week.unique():\n",
    "            for city in self.df_forecast.City.unique():\n",
    "                # Select forecast for city and current week\n",
    "                forecast = self.df_forecast.loc[(self.df_forecast.Week == week) &\n",
    "                                                (self.df_forecast.City == city) &\n",
    "                                                (self.df_forecast.max_date_to_assign >= pd.to_datetime(self.today + timedelta(days=2))) &\n",
    "                                                (self.df_forecast.Left > 0),\n",
    "                                                :]\n",
    "                if not forecast.loc[forecast.Left > 0, :].empty:\n",
    "                                   \n",
    "                    week_end_date = forecast['max_date_to_assign'].tolist()[0]\n",
    "                    riders = self.df_riders.loc[(~self.df_riders.index.isin(self.df_already_assigned.External)) &\n",
    "                                                (~self.df_riders.index.isin(self.warehouse_assigned_output.ID)) &\n",
    "                                                (self.df_riders['Earliest start date'] <= week_end_date) &\n",
    "                                                (self.df_riders.City == city), :]\n",
    "                    \n",
    "                    if not riders.empty :\n",
    "                        # Handle cities with single warehouse\n",
    "                        if len(forecast.Warehouse.tolist()) == 1:\n",
    "                            df_assigned = self.assign_single_warehouse_in_city(forecast, riders)\n",
    "                        # Handle generic case\n",
    "                        else:\n",
    "                            preferences = self.compute_pref_score(forecast, riders)\n",
    "\n",
    "                            df_assigned = self.solve_riders_assignment(forecast, riders, preferences)\n",
    "\n",
    "                        if not df_assigned.empty:\n",
    "                            # Get city destination ID\n",
    "                            df_assigned['destination'] = self.df_stage_id.loc[\n",
    "                                self.df_stage_id.City == city, 'Stage ID contract sending'].tolist()[0]\n",
    "                            print(\"W\"+str(week)+\" in \"+city+ \": \" + str(df_assigned.shape[0]) + \" riders assigned\")\n",
    "                            #print(df_assigned.warehouse.value_counts().to_dict())\n",
    "                            self.update_output(df_assigned)\n",
    "                        else:\n",
    "                            print(\"No assignment possible for w\"+str(week)+\" in \"+city)\n",
    "                    else:\n",
    "                        print(\"No riders for w\"+str(week)+\" in \"+city)\n",
    "                else:\n",
    "                    print(\"No forecast for w\"+str(week)+\" in \"+city)\n",
    "            \n",
    "        \n",
    "        \n",
    "    def write_output(self):\n",
    "\n",
    "        if not self.warehouse_assigned_output.empty:\n",
    "            gc = gspread.oauth()\n",
    "\n",
    "            sh = gc.open_by_key(self.spreadsheet_id)\n",
    "\n",
    "            forecast_worksheet = sh.worksheet('Input/output 1 Forecast') \n",
    "            date_assigned_worksheet = sh.worksheet('Output 2 Date assigned')\n",
    "            wh_assigned_worksheet = sh.worksheet('Output 3 WH assigned')\n",
    "            stage_update_worksheet = sh.worksheet('Output 4 Stage update')\n",
    "            riders_score_worksheet = sh.worksheet('Output 5 Riders score log')\n",
    "\n",
    "            \n",
    "            # CLEAR date_assigned_output SHEET CONTENT\n",
    "            range_of_cells = date_assigned_worksheet.range('A2:C1000') #-> Select the range you want to clear\n",
    "            for cell in range_of_cells:\n",
    "                cell.value = ''\n",
    "            date_assigned_worksheet.update_cells(range_of_cells)\n",
    "            # APPEND date_assigned_output to SHEET CONTENT\n",
    "            set_with_dataframe(date_assigned_worksheet, self.date_assigned_output)\n",
    "            \n",
    "            # CLEAR wh_assigned_worksheet SHEET CONTENT\n",
    "            range_of_cells = wh_assigned_worksheet.range('A2:C1000') #-> Select the range you want to clear\n",
    "            for cell in range_of_cells:\n",
    "                cell.value = ''\n",
    "            wh_assigned_worksheet.update_cells(range_of_cells) \n",
    "            # APPEND wh_assigned_worksheet to SHEET CONTENT\n",
    "            set_with_dataframe(wh_assigned_worksheet, self.warehouse_assigned_output)\n",
    "            \n",
    "            # CLEAR stage_update_worksheet SHEET CONTENT\n",
    "            range_of_cells = stage_update_worksheet.range('A2:C1000') #-> Select the range you want to clear\n",
    "            for cell in range_of_cells:\n",
    "                cell.value = ''\n",
    "            stage_update_worksheet.update_cells(range_of_cells) \n",
    "            # APPEND stage_update_worksheet to SHEET CONTENT\n",
    "            set_with_dataframe(stage_update_worksheet, self.stage_update_output)\n",
    "            \n",
    "            # APPEND riders_score_worksheet TO SHEET CONTENT\n",
    "            set_with_dataframe(riders_score_worksheet, self.riders_score_log_output)\n",
    "\n",
    "            # CLEAR forecast_worksheet SHEET CONTENT\n",
    "            range_of_cells = forecast_worksheet.range('A2:C1000') #-> Select the range you want to clear\n",
    "            for cell in range_of_cells:\n",
    "                cell.value = ''\n",
    "            forecast_worksheet.update_cells(range_of_cells) \n",
    "            # APPEND forecast_worksheet TO SHEET CONTENT\n",
    "            set_with_dataframe(forecast_worksheet, self.df_forecast[['City','Warehouse','Week', 'Need','Assigned']].sort_values(by=['Week', 'City', 'Warehouse']))\n",
    "\n",
    "\n",
    "\n",
    "riders_sheet_name = 'Input 2 Riders preference'\n",
    "forecast_sheet_name = 'Input/output 1 Forecast'\n",
    "distance_sheet_name = 'Input 3 Distance WH'\n",
    "index_stage_id_sheet_name = 'Index Stage ID'\n",
    "holiday_sheet_name = 'Input 5 Public holidays'\n",
    "opening_sheet_name = 'Input 4 Openings dates'\n",
    "date_assigned_sheet_name = 'Output 2 Date assigned'\n",
    "warehouse_assigned_sheet_name = 'Output 3 WH assigned'\n",
    "\n",
    "\n",
    "\n",
    "spreadsheet_id = '1n2-PXWfhCrFd6Y8KFmRUBH6RBIXKoS1eYrqIJyz60Dk'\n",
    "\n",
    "warehouse_assigner = WarehouseAssigner(spreadsheet_id)\n",
    "\n",
    "warehouse_assigner.get_inputs(\n",
    "    riders_sheet_name=riders_sheet_name, \n",
    "    forecast_sheet_name=forecast_sheet_name, \n",
    "    distance_sheet_name=distance_sheet_name,\n",
    "    index_stage_id_sheet_name=index_stage_id_sheet_name,\n",
    "    holiday_sheet_name=holiday_sheet_name,\n",
    "    opening_sheet_name=opening_sheet_name,\n",
    "    warehouse_assigned_sheet_name=warehouse_assigned_sheet_name,\n",
    "    date_assigned_sheet_name=date_assigned_sheet_name\n",
    "                             )\n",
    "\n",
    "warehouse_assigner.assign_riders()"
   ]
  },
  {
   "cell_type": "markdown",
   "id": "63ed4d7d",
   "metadata": {},
   "source": [
    "## Plot results before writing"
   ]
  },
  {
   "cell_type": "code",
   "execution_count": 23,
   "id": "27399e7b",
   "metadata": {
    "ExecuteTime": {
     "end_time": "2021-06-04T09:31:44.777427Z",
     "start_time": "2021-06-04T09:31:44.679704Z"
    }
   },
   "outputs": [
    {
     "data": {
      "application/vnd.plotly.v1+json": {
       "config": {
        "plotlyServerURL": "https://plot.ly"
       },
       "data": [
        {
         "alignmentgroup": "True",
         "bingroup": "x",
         "hovertemplate": "City=Munich<br>start_date=%{x}<br>count=%{y}<extra></extra>",
         "legendgroup": "Munich",
         "marker": {
          "color": "#636efa"
         },
         "name": "Munich",
         "offsetgroup": "Munich",
         "orientation": "v",
         "showlegend": true,
         "type": "histogram",
         "x": [
          "2021-06-08",
          "2021-06-08",
          "2021-06-08",
          "2021-06-08",
          "2021-06-08"
         ],
         "xaxis": "x",
         "yaxis": "y"
        },
        {
         "alignmentgroup": "True",
         "bingroup": "x",
         "hovertemplate": "City=Hamburg<br>start_date=%{x}<br>count=%{y}<extra></extra>",
         "legendgroup": "Hamburg",
         "marker": {
          "color": "#EF553B"
         },
         "name": "Hamburg",
         "offsetgroup": "Hamburg",
         "orientation": "v",
         "showlegend": true,
         "type": "histogram",
         "x": [
          "2021-06-08",
          "2021-06-08",
          "2021-06-08",
          "2021-06-08",
          "2021-06-08",
          "2021-06-08",
          "2021-06-08",
          "2021-06-08"
         ],
         "xaxis": "x",
         "yaxis": "y"
        },
        {
         "alignmentgroup": "True",
         "bingroup": "x",
         "hovertemplate": "City=Berlin<br>start_date=%{x}<br>count=%{y}<extra></extra>",
         "legendgroup": "Berlin",
         "marker": {
          "color": "#00cc96"
         },
         "name": "Berlin",
         "offsetgroup": "Berlin",
         "orientation": "v",
         "showlegend": true,
         "type": "histogram",
         "x": [
          "2021-06-08",
          "2021-06-08",
          "2021-06-08",
          "2021-06-11",
          "2021-06-08",
          "2021-06-08",
          "2021-06-08",
          "2021-06-08",
          "2021-06-08",
          "2021-06-08"
         ],
         "xaxis": "x",
         "yaxis": "y"
        },
        {
         "alignmentgroup": "True",
         "bingroup": "x",
         "hovertemplate": "City=Bremen<br>start_date=%{x}<br>count=%{y}<extra></extra>",
         "legendgroup": "Bremen",
         "marker": {
          "color": "#ab63fa"
         },
         "name": "Bremen",
         "offsetgroup": "Bremen",
         "orientation": "v",
         "showlegend": true,
         "type": "histogram",
         "x": [
          "2021-06-08"
         ],
         "xaxis": "x",
         "yaxis": "y"
        },
        {
         "alignmentgroup": "True",
         "bingroup": "x",
         "hovertemplate": "City=Düsseldorf<br>start_date=%{x}<br>count=%{y}<extra></extra>",
         "legendgroup": "Düsseldorf",
         "marker": {
          "color": "#FFA15A"
         },
         "name": "Düsseldorf",
         "offsetgroup": "Düsseldorf",
         "orientation": "v",
         "showlegend": true,
         "type": "histogram",
         "x": [
          "2021-06-08",
          "2021-06-14",
          "2021-06-14",
          "2021-06-08",
          "2021-06-18",
          "2021-06-14",
          "2021-06-14",
          "2021-06-14",
          "2021-06-14",
          "2021-06-14"
         ],
         "xaxis": "x",
         "yaxis": "y"
        },
        {
         "alignmentgroup": "True",
         "bingroup": "x",
         "hovertemplate": "City=Gelsenkirchen<br>start_date=%{x}<br>count=%{y}<extra></extra>",
         "legendgroup": "Gelsenkirchen",
         "marker": {
          "color": "#19d3f3"
         },
         "name": "Gelsenkirchen",
         "offsetgroup": "Gelsenkirchen",
         "orientation": "v",
         "showlegend": true,
         "type": "histogram",
         "x": [
          "2021-06-16"
         ],
         "xaxis": "x",
         "yaxis": "y"
        }
       ],
       "layout": {
        "barmode": "group",
        "legend": {
         "title": {
          "text": "City"
         },
         "tracegroupgap": 0
        },
        "margin": {
         "t": 60
        },
        "template": {
         "data": {
          "bar": [
           {
            "error_x": {
             "color": "#2a3f5f"
            },
            "error_y": {
             "color": "#2a3f5f"
            },
            "marker": {
             "line": {
              "color": "#E5ECF6",
              "width": 0.5
             }
            },
            "type": "bar"
           }
          ],
          "barpolar": [
           {
            "marker": {
             "line": {
              "color": "#E5ECF6",
              "width": 0.5
             }
            },
            "type": "barpolar"
           }
          ],
          "carpet": [
           {
            "aaxis": {
             "endlinecolor": "#2a3f5f",
             "gridcolor": "white",
             "linecolor": "white",
             "minorgridcolor": "white",
             "startlinecolor": "#2a3f5f"
            },
            "baxis": {
             "endlinecolor": "#2a3f5f",
             "gridcolor": "white",
             "linecolor": "white",
             "minorgridcolor": "white",
             "startlinecolor": "#2a3f5f"
            },
            "type": "carpet"
           }
          ],
          "choropleth": [
           {
            "colorbar": {
             "outlinewidth": 0,
             "ticks": ""
            },
            "type": "choropleth"
           }
          ],
          "contour": [
           {
            "colorbar": {
             "outlinewidth": 0,
             "ticks": ""
            },
            "colorscale": [
             [
              0,
              "#0d0887"
             ],
             [
              0.1111111111111111,
              "#46039f"
             ],
             [
              0.2222222222222222,
              "#7201a8"
             ],
             [
              0.3333333333333333,
              "#9c179e"
             ],
             [
              0.4444444444444444,
              "#bd3786"
             ],
             [
              0.5555555555555556,
              "#d8576b"
             ],
             [
              0.6666666666666666,
              "#ed7953"
             ],
             [
              0.7777777777777778,
              "#fb9f3a"
             ],
             [
              0.8888888888888888,
              "#fdca26"
             ],
             [
              1,
              "#f0f921"
             ]
            ],
            "type": "contour"
           }
          ],
          "contourcarpet": [
           {
            "colorbar": {
             "outlinewidth": 0,
             "ticks": ""
            },
            "type": "contourcarpet"
           }
          ],
          "heatmap": [
           {
            "colorbar": {
             "outlinewidth": 0,
             "ticks": ""
            },
            "colorscale": [
             [
              0,
              "#0d0887"
             ],
             [
              0.1111111111111111,
              "#46039f"
             ],
             [
              0.2222222222222222,
              "#7201a8"
             ],
             [
              0.3333333333333333,
              "#9c179e"
             ],
             [
              0.4444444444444444,
              "#bd3786"
             ],
             [
              0.5555555555555556,
              "#d8576b"
             ],
             [
              0.6666666666666666,
              "#ed7953"
             ],
             [
              0.7777777777777778,
              "#fb9f3a"
             ],
             [
              0.8888888888888888,
              "#fdca26"
             ],
             [
              1,
              "#f0f921"
             ]
            ],
            "type": "heatmap"
           }
          ],
          "heatmapgl": [
           {
            "colorbar": {
             "outlinewidth": 0,
             "ticks": ""
            },
            "colorscale": [
             [
              0,
              "#0d0887"
             ],
             [
              0.1111111111111111,
              "#46039f"
             ],
             [
              0.2222222222222222,
              "#7201a8"
             ],
             [
              0.3333333333333333,
              "#9c179e"
             ],
             [
              0.4444444444444444,
              "#bd3786"
             ],
             [
              0.5555555555555556,
              "#d8576b"
             ],
             [
              0.6666666666666666,
              "#ed7953"
             ],
             [
              0.7777777777777778,
              "#fb9f3a"
             ],
             [
              0.8888888888888888,
              "#fdca26"
             ],
             [
              1,
              "#f0f921"
             ]
            ],
            "type": "heatmapgl"
           }
          ],
          "histogram": [
           {
            "marker": {
             "colorbar": {
              "outlinewidth": 0,
              "ticks": ""
             }
            },
            "type": "histogram"
           }
          ],
          "histogram2d": [
           {
            "colorbar": {
             "outlinewidth": 0,
             "ticks": ""
            },
            "colorscale": [
             [
              0,
              "#0d0887"
             ],
             [
              0.1111111111111111,
              "#46039f"
             ],
             [
              0.2222222222222222,
              "#7201a8"
             ],
             [
              0.3333333333333333,
              "#9c179e"
             ],
             [
              0.4444444444444444,
              "#bd3786"
             ],
             [
              0.5555555555555556,
              "#d8576b"
             ],
             [
              0.6666666666666666,
              "#ed7953"
             ],
             [
              0.7777777777777778,
              "#fb9f3a"
             ],
             [
              0.8888888888888888,
              "#fdca26"
             ],
             [
              1,
              "#f0f921"
             ]
            ],
            "type": "histogram2d"
           }
          ],
          "histogram2dcontour": [
           {
            "colorbar": {
             "outlinewidth": 0,
             "ticks": ""
            },
            "colorscale": [
             [
              0,
              "#0d0887"
             ],
             [
              0.1111111111111111,
              "#46039f"
             ],
             [
              0.2222222222222222,
              "#7201a8"
             ],
             [
              0.3333333333333333,
              "#9c179e"
             ],
             [
              0.4444444444444444,
              "#bd3786"
             ],
             [
              0.5555555555555556,
              "#d8576b"
             ],
             [
              0.6666666666666666,
              "#ed7953"
             ],
             [
              0.7777777777777778,
              "#fb9f3a"
             ],
             [
              0.8888888888888888,
              "#fdca26"
             ],
             [
              1,
              "#f0f921"
             ]
            ],
            "type": "histogram2dcontour"
           }
          ],
          "mesh3d": [
           {
            "colorbar": {
             "outlinewidth": 0,
             "ticks": ""
            },
            "type": "mesh3d"
           }
          ],
          "parcoords": [
           {
            "line": {
             "colorbar": {
              "outlinewidth": 0,
              "ticks": ""
             }
            },
            "type": "parcoords"
           }
          ],
          "pie": [
           {
            "automargin": true,
            "type": "pie"
           }
          ],
          "scatter": [
           {
            "marker": {
             "colorbar": {
              "outlinewidth": 0,
              "ticks": ""
             }
            },
            "type": "scatter"
           }
          ],
          "scatter3d": [
           {
            "line": {
             "colorbar": {
              "outlinewidth": 0,
              "ticks": ""
             }
            },
            "marker": {
             "colorbar": {
              "outlinewidth": 0,
              "ticks": ""
             }
            },
            "type": "scatter3d"
           }
          ],
          "scattercarpet": [
           {
            "marker": {
             "colorbar": {
              "outlinewidth": 0,
              "ticks": ""
             }
            },
            "type": "scattercarpet"
           }
          ],
          "scattergeo": [
           {
            "marker": {
             "colorbar": {
              "outlinewidth": 0,
              "ticks": ""
             }
            },
            "type": "scattergeo"
           }
          ],
          "scattergl": [
           {
            "marker": {
             "colorbar": {
              "outlinewidth": 0,
              "ticks": ""
             }
            },
            "type": "scattergl"
           }
          ],
          "scattermapbox": [
           {
            "marker": {
             "colorbar": {
              "outlinewidth": 0,
              "ticks": ""
             }
            },
            "type": "scattermapbox"
           }
          ],
          "scatterpolar": [
           {
            "marker": {
             "colorbar": {
              "outlinewidth": 0,
              "ticks": ""
             }
            },
            "type": "scatterpolar"
           }
          ],
          "scatterpolargl": [
           {
            "marker": {
             "colorbar": {
              "outlinewidth": 0,
              "ticks": ""
             }
            },
            "type": "scatterpolargl"
           }
          ],
          "scatterternary": [
           {
            "marker": {
             "colorbar": {
              "outlinewidth": 0,
              "ticks": ""
             }
            },
            "type": "scatterternary"
           }
          ],
          "surface": [
           {
            "colorbar": {
             "outlinewidth": 0,
             "ticks": ""
            },
            "colorscale": [
             [
              0,
              "#0d0887"
             ],
             [
              0.1111111111111111,
              "#46039f"
             ],
             [
              0.2222222222222222,
              "#7201a8"
             ],
             [
              0.3333333333333333,
              "#9c179e"
             ],
             [
              0.4444444444444444,
              "#bd3786"
             ],
             [
              0.5555555555555556,
              "#d8576b"
             ],
             [
              0.6666666666666666,
              "#ed7953"
             ],
             [
              0.7777777777777778,
              "#fb9f3a"
             ],
             [
              0.8888888888888888,
              "#fdca26"
             ],
             [
              1,
              "#f0f921"
             ]
            ],
            "type": "surface"
           }
          ],
          "table": [
           {
            "cells": {
             "fill": {
              "color": "#EBF0F8"
             },
             "line": {
              "color": "white"
             }
            },
            "header": {
             "fill": {
              "color": "#C8D4E3"
             },
             "line": {
              "color": "white"
             }
            },
            "type": "table"
           }
          ]
         },
         "layout": {
          "annotationdefaults": {
           "arrowcolor": "#2a3f5f",
           "arrowhead": 0,
           "arrowwidth": 1
          },
          "autotypenumbers": "strict",
          "coloraxis": {
           "colorbar": {
            "outlinewidth": 0,
            "ticks": ""
           }
          },
          "colorscale": {
           "diverging": [
            [
             0,
             "#8e0152"
            ],
            [
             0.1,
             "#c51b7d"
            ],
            [
             0.2,
             "#de77ae"
            ],
            [
             0.3,
             "#f1b6da"
            ],
            [
             0.4,
             "#fde0ef"
            ],
            [
             0.5,
             "#f7f7f7"
            ],
            [
             0.6,
             "#e6f5d0"
            ],
            [
             0.7,
             "#b8e186"
            ],
            [
             0.8,
             "#7fbc41"
            ],
            [
             0.9,
             "#4d9221"
            ],
            [
             1,
             "#276419"
            ]
           ],
           "sequential": [
            [
             0,
             "#0d0887"
            ],
            [
             0.1111111111111111,
             "#46039f"
            ],
            [
             0.2222222222222222,
             "#7201a8"
            ],
            [
             0.3333333333333333,
             "#9c179e"
            ],
            [
             0.4444444444444444,
             "#bd3786"
            ],
            [
             0.5555555555555556,
             "#d8576b"
            ],
            [
             0.6666666666666666,
             "#ed7953"
            ],
            [
             0.7777777777777778,
             "#fb9f3a"
            ],
            [
             0.8888888888888888,
             "#fdca26"
            ],
            [
             1,
             "#f0f921"
            ]
           ],
           "sequentialminus": [
            [
             0,
             "#0d0887"
            ],
            [
             0.1111111111111111,
             "#46039f"
            ],
            [
             0.2222222222222222,
             "#7201a8"
            ],
            [
             0.3333333333333333,
             "#9c179e"
            ],
            [
             0.4444444444444444,
             "#bd3786"
            ],
            [
             0.5555555555555556,
             "#d8576b"
            ],
            [
             0.6666666666666666,
             "#ed7953"
            ],
            [
             0.7777777777777778,
             "#fb9f3a"
            ],
            [
             0.8888888888888888,
             "#fdca26"
            ],
            [
             1,
             "#f0f921"
            ]
           ]
          },
          "colorway": [
           "#636efa",
           "#EF553B",
           "#00cc96",
           "#ab63fa",
           "#FFA15A",
           "#19d3f3",
           "#FF6692",
           "#B6E880",
           "#FF97FF",
           "#FECB52"
          ],
          "font": {
           "color": "#2a3f5f"
          },
          "geo": {
           "bgcolor": "white",
           "lakecolor": "white",
           "landcolor": "#E5ECF6",
           "showlakes": true,
           "showland": true,
           "subunitcolor": "white"
          },
          "hoverlabel": {
           "align": "left"
          },
          "hovermode": "closest",
          "mapbox": {
           "style": "light"
          },
          "paper_bgcolor": "white",
          "plot_bgcolor": "#E5ECF6",
          "polar": {
           "angularaxis": {
            "gridcolor": "white",
            "linecolor": "white",
            "ticks": ""
           },
           "bgcolor": "#E5ECF6",
           "radialaxis": {
            "gridcolor": "white",
            "linecolor": "white",
            "ticks": ""
           }
          },
          "scene": {
           "xaxis": {
            "backgroundcolor": "#E5ECF6",
            "gridcolor": "white",
            "gridwidth": 2,
            "linecolor": "white",
            "showbackground": true,
            "ticks": "",
            "zerolinecolor": "white"
           },
           "yaxis": {
            "backgroundcolor": "#E5ECF6",
            "gridcolor": "white",
            "gridwidth": 2,
            "linecolor": "white",
            "showbackground": true,
            "ticks": "",
            "zerolinecolor": "white"
           },
           "zaxis": {
            "backgroundcolor": "#E5ECF6",
            "gridcolor": "white",
            "gridwidth": 2,
            "linecolor": "white",
            "showbackground": true,
            "ticks": "",
            "zerolinecolor": "white"
           }
          },
          "shapedefaults": {
           "line": {
            "color": "#2a3f5f"
           }
          },
          "ternary": {
           "aaxis": {
            "gridcolor": "white",
            "linecolor": "white",
            "ticks": ""
           },
           "baxis": {
            "gridcolor": "white",
            "linecolor": "white",
            "ticks": ""
           },
           "bgcolor": "#E5ECF6",
           "caxis": {
            "gridcolor": "white",
            "linecolor": "white",
            "ticks": ""
           }
          },
          "title": {
           "x": 0.05
          },
          "xaxis": {
           "automargin": true,
           "gridcolor": "white",
           "linecolor": "white",
           "ticks": "",
           "title": {
            "standoff": 15
           },
           "zerolinecolor": "white",
           "zerolinewidth": 2
          },
          "yaxis": {
           "automargin": true,
           "gridcolor": "white",
           "linecolor": "white",
           "ticks": "",
           "title": {
            "standoff": 15
           },
           "zerolinecolor": "white",
           "zerolinewidth": 2
          }
         }
        },
        "xaxis": {
         "anchor": "y",
         "domain": [
          0,
          1
         ],
         "title": {
          "text": "start_date"
         }
        },
        "yaxis": {
         "anchor": "x",
         "domain": [
          0,
          1
         ],
         "title": {
          "text": "count"
         }
        }
       }
      },
      "text/html": [
       "<div>                            <div id=\"cf6b1352-3024-42a6-9513-e865a4702ee8\" class=\"plotly-graph-div\" style=\"height:525px; width:100%;\"></div>            <script type=\"text/javascript\">                require([\"plotly\"], function(Plotly) {                    window.PLOTLYENV=window.PLOTLYENV || {};                                    if (document.getElementById(\"cf6b1352-3024-42a6-9513-e865a4702ee8\")) {                    Plotly.newPlot(                        \"cf6b1352-3024-42a6-9513-e865a4702ee8\",                        [{\"alignmentgroup\": \"True\", \"bingroup\": \"x\", \"hovertemplate\": \"City=Munich<br>start_date=%{x}<br>count=%{y}<extra></extra>\", \"legendgroup\": \"Munich\", \"marker\": {\"color\": \"#636efa\"}, \"name\": \"Munich\", \"offsetgroup\": \"Munich\", \"orientation\": \"v\", \"showlegend\": true, \"type\": \"histogram\", \"x\": [\"2021-06-08\", \"2021-06-08\", \"2021-06-08\", \"2021-06-08\", \"2021-06-08\"], \"xaxis\": \"x\", \"yaxis\": \"y\"}, {\"alignmentgroup\": \"True\", \"bingroup\": \"x\", \"hovertemplate\": \"City=Hamburg<br>start_date=%{x}<br>count=%{y}<extra></extra>\", \"legendgroup\": \"Hamburg\", \"marker\": {\"color\": \"#EF553B\"}, \"name\": \"Hamburg\", \"offsetgroup\": \"Hamburg\", \"orientation\": \"v\", \"showlegend\": true, \"type\": \"histogram\", \"x\": [\"2021-06-08\", \"2021-06-08\", \"2021-06-08\", \"2021-06-08\", \"2021-06-08\", \"2021-06-08\", \"2021-06-08\", \"2021-06-08\"], \"xaxis\": \"x\", \"yaxis\": \"y\"}, {\"alignmentgroup\": \"True\", \"bingroup\": \"x\", \"hovertemplate\": \"City=Berlin<br>start_date=%{x}<br>count=%{y}<extra></extra>\", \"legendgroup\": \"Berlin\", \"marker\": {\"color\": \"#00cc96\"}, \"name\": \"Berlin\", \"offsetgroup\": \"Berlin\", \"orientation\": \"v\", \"showlegend\": true, \"type\": \"histogram\", \"x\": [\"2021-06-08\", \"2021-06-08\", \"2021-06-08\", \"2021-06-11\", \"2021-06-08\", \"2021-06-08\", \"2021-06-08\", \"2021-06-08\", \"2021-06-08\", \"2021-06-08\"], \"xaxis\": \"x\", \"yaxis\": \"y\"}, {\"alignmentgroup\": \"True\", \"bingroup\": \"x\", \"hovertemplate\": \"City=Bremen<br>start_date=%{x}<br>count=%{y}<extra></extra>\", \"legendgroup\": \"Bremen\", \"marker\": {\"color\": \"#ab63fa\"}, \"name\": \"Bremen\", \"offsetgroup\": \"Bremen\", \"orientation\": \"v\", \"showlegend\": true, \"type\": \"histogram\", \"x\": [\"2021-06-08\"], \"xaxis\": \"x\", \"yaxis\": \"y\"}, {\"alignmentgroup\": \"True\", \"bingroup\": \"x\", \"hovertemplate\": \"City=D\\u00fcsseldorf<br>start_date=%{x}<br>count=%{y}<extra></extra>\", \"legendgroup\": \"D\\u00fcsseldorf\", \"marker\": {\"color\": \"#FFA15A\"}, \"name\": \"D\\u00fcsseldorf\", \"offsetgroup\": \"D\\u00fcsseldorf\", \"orientation\": \"v\", \"showlegend\": true, \"type\": \"histogram\", \"x\": [\"2021-06-08\", \"2021-06-14\", \"2021-06-14\", \"2021-06-08\", \"2021-06-18\", \"2021-06-14\", \"2021-06-14\", \"2021-06-14\", \"2021-06-14\", \"2021-06-14\"], \"xaxis\": \"x\", \"yaxis\": \"y\"}, {\"alignmentgroup\": \"True\", \"bingroup\": \"x\", \"hovertemplate\": \"City=Gelsenkirchen<br>start_date=%{x}<br>count=%{y}<extra></extra>\", \"legendgroup\": \"Gelsenkirchen\", \"marker\": {\"color\": \"#19d3f3\"}, \"name\": \"Gelsenkirchen\", \"offsetgroup\": \"Gelsenkirchen\", \"orientation\": \"v\", \"showlegend\": true, \"type\": \"histogram\", \"x\": [\"2021-06-16\"], \"xaxis\": \"x\", \"yaxis\": \"y\"}],                        {\"barmode\": \"group\", \"legend\": {\"title\": {\"text\": \"City\"}, \"tracegroupgap\": 0}, \"margin\": {\"t\": 60}, \"template\": {\"data\": {\"bar\": [{\"error_x\": {\"color\": \"#2a3f5f\"}, \"error_y\": {\"color\": \"#2a3f5f\"}, \"marker\": {\"line\": {\"color\": \"#E5ECF6\", \"width\": 0.5}}, \"type\": \"bar\"}], \"barpolar\": [{\"marker\": {\"line\": {\"color\": \"#E5ECF6\", \"width\": 0.5}}, \"type\": \"barpolar\"}], \"carpet\": [{\"aaxis\": {\"endlinecolor\": \"#2a3f5f\", \"gridcolor\": \"white\", \"linecolor\": \"white\", \"minorgridcolor\": \"white\", \"startlinecolor\": \"#2a3f5f\"}, \"baxis\": {\"endlinecolor\": \"#2a3f5f\", \"gridcolor\": \"white\", \"linecolor\": \"white\", \"minorgridcolor\": \"white\", \"startlinecolor\": \"#2a3f5f\"}, \"type\": \"carpet\"}], \"choropleth\": [{\"colorbar\": {\"outlinewidth\": 0, \"ticks\": \"\"}, \"type\": \"choropleth\"}], \"contour\": [{\"colorbar\": {\"outlinewidth\": 0, \"ticks\": \"\"}, \"colorscale\": [[0.0, \"#0d0887\"], [0.1111111111111111, \"#46039f\"], [0.2222222222222222, \"#7201a8\"], [0.3333333333333333, \"#9c179e\"], [0.4444444444444444, \"#bd3786\"], [0.5555555555555556, \"#d8576b\"], [0.6666666666666666, \"#ed7953\"], [0.7777777777777778, \"#fb9f3a\"], [0.8888888888888888, \"#fdca26\"], [1.0, \"#f0f921\"]], \"type\": \"contour\"}], \"contourcarpet\": [{\"colorbar\": {\"outlinewidth\": 0, \"ticks\": \"\"}, \"type\": \"contourcarpet\"}], \"heatmap\": [{\"colorbar\": {\"outlinewidth\": 0, \"ticks\": \"\"}, \"colorscale\": [[0.0, \"#0d0887\"], [0.1111111111111111, \"#46039f\"], [0.2222222222222222, \"#7201a8\"], [0.3333333333333333, \"#9c179e\"], [0.4444444444444444, \"#bd3786\"], [0.5555555555555556, \"#d8576b\"], [0.6666666666666666, \"#ed7953\"], [0.7777777777777778, \"#fb9f3a\"], [0.8888888888888888, \"#fdca26\"], [1.0, \"#f0f921\"]], \"type\": \"heatmap\"}], \"heatmapgl\": [{\"colorbar\": {\"outlinewidth\": 0, \"ticks\": \"\"}, \"colorscale\": [[0.0, \"#0d0887\"], [0.1111111111111111, \"#46039f\"], [0.2222222222222222, \"#7201a8\"], [0.3333333333333333, \"#9c179e\"], [0.4444444444444444, \"#bd3786\"], [0.5555555555555556, \"#d8576b\"], [0.6666666666666666, \"#ed7953\"], [0.7777777777777778, \"#fb9f3a\"], [0.8888888888888888, \"#fdca26\"], [1.0, \"#f0f921\"]], \"type\": \"heatmapgl\"}], \"histogram\": [{\"marker\": {\"colorbar\": {\"outlinewidth\": 0, \"ticks\": \"\"}}, \"type\": \"histogram\"}], \"histogram2d\": [{\"colorbar\": {\"outlinewidth\": 0, \"ticks\": \"\"}, \"colorscale\": [[0.0, \"#0d0887\"], [0.1111111111111111, \"#46039f\"], [0.2222222222222222, \"#7201a8\"], [0.3333333333333333, \"#9c179e\"], [0.4444444444444444, \"#bd3786\"], [0.5555555555555556, \"#d8576b\"], [0.6666666666666666, \"#ed7953\"], [0.7777777777777778, \"#fb9f3a\"], [0.8888888888888888, \"#fdca26\"], [1.0, \"#f0f921\"]], \"type\": \"histogram2d\"}], \"histogram2dcontour\": [{\"colorbar\": {\"outlinewidth\": 0, \"ticks\": \"\"}, \"colorscale\": [[0.0, \"#0d0887\"], [0.1111111111111111, \"#46039f\"], [0.2222222222222222, \"#7201a8\"], [0.3333333333333333, \"#9c179e\"], [0.4444444444444444, \"#bd3786\"], [0.5555555555555556, \"#d8576b\"], [0.6666666666666666, \"#ed7953\"], [0.7777777777777778, \"#fb9f3a\"], [0.8888888888888888, \"#fdca26\"], [1.0, \"#f0f921\"]], \"type\": \"histogram2dcontour\"}], \"mesh3d\": [{\"colorbar\": {\"outlinewidth\": 0, \"ticks\": \"\"}, \"type\": \"mesh3d\"}], \"parcoords\": [{\"line\": {\"colorbar\": {\"outlinewidth\": 0, \"ticks\": \"\"}}, \"type\": \"parcoords\"}], \"pie\": [{\"automargin\": true, \"type\": \"pie\"}], \"scatter\": [{\"marker\": {\"colorbar\": {\"outlinewidth\": 0, \"ticks\": \"\"}}, \"type\": \"scatter\"}], \"scatter3d\": [{\"line\": {\"colorbar\": {\"outlinewidth\": 0, \"ticks\": \"\"}}, \"marker\": {\"colorbar\": {\"outlinewidth\": 0, \"ticks\": \"\"}}, \"type\": \"scatter3d\"}], \"scattercarpet\": [{\"marker\": {\"colorbar\": {\"outlinewidth\": 0, \"ticks\": \"\"}}, \"type\": \"scattercarpet\"}], \"scattergeo\": [{\"marker\": {\"colorbar\": {\"outlinewidth\": 0, \"ticks\": \"\"}}, \"type\": \"scattergeo\"}], \"scattergl\": [{\"marker\": {\"colorbar\": {\"outlinewidth\": 0, \"ticks\": \"\"}}, \"type\": \"scattergl\"}], \"scattermapbox\": [{\"marker\": {\"colorbar\": {\"outlinewidth\": 0, \"ticks\": \"\"}}, \"type\": \"scattermapbox\"}], \"scatterpolar\": [{\"marker\": {\"colorbar\": {\"outlinewidth\": 0, \"ticks\": \"\"}}, \"type\": \"scatterpolar\"}], \"scatterpolargl\": [{\"marker\": {\"colorbar\": {\"outlinewidth\": 0, \"ticks\": \"\"}}, \"type\": \"scatterpolargl\"}], \"scatterternary\": [{\"marker\": {\"colorbar\": {\"outlinewidth\": 0, \"ticks\": \"\"}}, \"type\": \"scatterternary\"}], \"surface\": [{\"colorbar\": {\"outlinewidth\": 0, \"ticks\": \"\"}, \"colorscale\": [[0.0, \"#0d0887\"], [0.1111111111111111, \"#46039f\"], [0.2222222222222222, \"#7201a8\"], [0.3333333333333333, \"#9c179e\"], [0.4444444444444444, \"#bd3786\"], [0.5555555555555556, \"#d8576b\"], [0.6666666666666666, \"#ed7953\"], [0.7777777777777778, \"#fb9f3a\"], [0.8888888888888888, \"#fdca26\"], [1.0, \"#f0f921\"]], \"type\": \"surface\"}], \"table\": [{\"cells\": {\"fill\": {\"color\": \"#EBF0F8\"}, \"line\": {\"color\": \"white\"}}, \"header\": {\"fill\": {\"color\": \"#C8D4E3\"}, \"line\": {\"color\": \"white\"}}, \"type\": \"table\"}]}, \"layout\": {\"annotationdefaults\": {\"arrowcolor\": \"#2a3f5f\", \"arrowhead\": 0, \"arrowwidth\": 1}, \"autotypenumbers\": \"strict\", \"coloraxis\": {\"colorbar\": {\"outlinewidth\": 0, \"ticks\": \"\"}}, \"colorscale\": {\"diverging\": [[0, \"#8e0152\"], [0.1, \"#c51b7d\"], [0.2, \"#de77ae\"], [0.3, \"#f1b6da\"], [0.4, \"#fde0ef\"], [0.5, \"#f7f7f7\"], [0.6, \"#e6f5d0\"], [0.7, \"#b8e186\"], [0.8, \"#7fbc41\"], [0.9, \"#4d9221\"], [1, \"#276419\"]], \"sequential\": [[0.0, \"#0d0887\"], [0.1111111111111111, \"#46039f\"], [0.2222222222222222, \"#7201a8\"], [0.3333333333333333, \"#9c179e\"], [0.4444444444444444, \"#bd3786\"], [0.5555555555555556, \"#d8576b\"], [0.6666666666666666, \"#ed7953\"], [0.7777777777777778, \"#fb9f3a\"], [0.8888888888888888, \"#fdca26\"], [1.0, \"#f0f921\"]], \"sequentialminus\": [[0.0, \"#0d0887\"], [0.1111111111111111, \"#46039f\"], [0.2222222222222222, \"#7201a8\"], [0.3333333333333333, \"#9c179e\"], [0.4444444444444444, \"#bd3786\"], [0.5555555555555556, \"#d8576b\"], [0.6666666666666666, \"#ed7953\"], [0.7777777777777778, \"#fb9f3a\"], [0.8888888888888888, \"#fdca26\"], [1.0, \"#f0f921\"]]}, \"colorway\": [\"#636efa\", \"#EF553B\", \"#00cc96\", \"#ab63fa\", \"#FFA15A\", \"#19d3f3\", \"#FF6692\", \"#B6E880\", \"#FF97FF\", \"#FECB52\"], \"font\": {\"color\": \"#2a3f5f\"}, \"geo\": {\"bgcolor\": \"white\", \"lakecolor\": \"white\", \"landcolor\": \"#E5ECF6\", \"showlakes\": true, \"showland\": true, \"subunitcolor\": \"white\"}, \"hoverlabel\": {\"align\": \"left\"}, \"hovermode\": \"closest\", \"mapbox\": {\"style\": \"light\"}, \"paper_bgcolor\": \"white\", \"plot_bgcolor\": \"#E5ECF6\", \"polar\": {\"angularaxis\": {\"gridcolor\": \"white\", \"linecolor\": \"white\", \"ticks\": \"\"}, \"bgcolor\": \"#E5ECF6\", \"radialaxis\": {\"gridcolor\": \"white\", \"linecolor\": \"white\", \"ticks\": \"\"}}, \"scene\": {\"xaxis\": {\"backgroundcolor\": \"#E5ECF6\", \"gridcolor\": \"white\", \"gridwidth\": 2, \"linecolor\": \"white\", \"showbackground\": true, \"ticks\": \"\", \"zerolinecolor\": \"white\"}, \"yaxis\": {\"backgroundcolor\": \"#E5ECF6\", \"gridcolor\": \"white\", \"gridwidth\": 2, \"linecolor\": \"white\", \"showbackground\": true, \"ticks\": \"\", \"zerolinecolor\": \"white\"}, \"zaxis\": {\"backgroundcolor\": \"#E5ECF6\", \"gridcolor\": \"white\", \"gridwidth\": 2, \"linecolor\": \"white\", \"showbackground\": true, \"ticks\": \"\", \"zerolinecolor\": \"white\"}}, \"shapedefaults\": {\"line\": {\"color\": \"#2a3f5f\"}}, \"ternary\": {\"aaxis\": {\"gridcolor\": \"white\", \"linecolor\": \"white\", \"ticks\": \"\"}, \"baxis\": {\"gridcolor\": \"white\", \"linecolor\": \"white\", \"ticks\": \"\"}, \"bgcolor\": \"#E5ECF6\", \"caxis\": {\"gridcolor\": \"white\", \"linecolor\": \"white\", \"ticks\": \"\"}}, \"title\": {\"x\": 0.05}, \"xaxis\": {\"automargin\": true, \"gridcolor\": \"white\", \"linecolor\": \"white\", \"ticks\": \"\", \"title\": {\"standoff\": 15}, \"zerolinecolor\": \"white\", \"zerolinewidth\": 2}, \"yaxis\": {\"automargin\": true, \"gridcolor\": \"white\", \"linecolor\": \"white\", \"ticks\": \"\", \"title\": {\"standoff\": 15}, \"zerolinecolor\": \"white\", \"zerolinewidth\": 2}}}, \"xaxis\": {\"anchor\": \"y\", \"domain\": [0.0, 1.0], \"title\": {\"text\": \"start_date\"}}, \"yaxis\": {\"anchor\": \"x\", \"domain\": [0.0, 1.0], \"title\": {\"text\": \"count\"}}},                        {\"responsive\": true}                    ).then(function(){\n",
       "                            \n",
       "var gd = document.getElementById('cf6b1352-3024-42a6-9513-e865a4702ee8');\n",
       "var x = new MutationObserver(function (mutations, observer) {{\n",
       "        var display = window.getComputedStyle(gd).display;\n",
       "        if (!display || display === 'none') {{\n",
       "            console.log([gd, 'removed!']);\n",
       "            Plotly.purge(gd);\n",
       "            observer.disconnect();\n",
       "        }}\n",
       "}});\n",
       "\n",
       "// Listen for the removal of the full notebook cells\n",
       "var notebookContainer = gd.closest('#notebook-container');\n",
       "if (notebookContainer) {{\n",
       "    x.observe(notebookContainer, {childList: true});\n",
       "}}\n",
       "\n",
       "// Listen for the clearing of the current output cell\n",
       "var outputEl = gd.closest('.output');\n",
       "if (outputEl) {{\n",
       "    x.observe(outputEl, {childList: true});\n",
       "}}\n",
       "\n",
       "                        })                };                });            </script>        </div>"
      ]
     },
     "metadata": {},
     "output_type": "display_data"
    }
   ],
   "source": [
    "import plotly.express as px\n",
    "df_warehouse_assigned = warehouse_assigner.warehouse_assigned_output.rename(columns={\n",
    "                                        \"ID\":\"External\",\n",
    "                                        \"value\":\"Warehouse\"\n",
    "                                     })\n",
    "        \n",
    "df_date_assigned = warehouse_assigner.date_assigned_output.rename(columns={\n",
    "                            \"ID\":\"External\",\n",
    "                            \"value\":\"start_date\"\n",
    "                        })\n",
    "        \n",
    "df_already_assigned = pd.merge(df_warehouse_assigned, df_date_assigned, how=\"inner\", on=[\"External\"])\n",
    "df_already_assigned.drop(['key_x', 'key_y'], axis=1, inplace=True)\n",
    "df_city_warehouse = warehouse_assigner.df_forecast.drop_duplicates('Warehouse')[['Warehouse', 'City']]\n",
    "df_already_assigned = pd.merge(df_already_assigned, df_city_warehouse, how=\"inner\", on=[\"Warehouse\"])\n",
    "fig = px.histogram(df_already_assigned, x='start_date', color=\"City\", barmode='group')\n",
    "fig.write_html(\"assign_report.html\")\n",
    "fig"
   ]
  },
  {
   "cell_type": "code",
   "execution_count": 18,
   "id": "ebcb7dd4",
   "metadata": {
    "ExecuteTime": {
     "end_time": "2021-06-04T08:28:47.884524Z",
     "start_time": "2021-06-04T08:28:47.772779Z"
    }
   },
   "outputs": [
    {
     "data": {
      "application/vnd.plotly.v1+json": {
       "config": {
        "plotlyServerURL": "https://plot.ly"
       },
       "data": [
        {
         "alignmentgroup": "True",
         "bingroup": "x",
         "hovertemplate": "City=Munich<br>Week=%{x}<br>count=%{y}<extra></extra>",
         "legendgroup": "Munich",
         "marker": {
          "color": "#636efa"
         },
         "name": "Munich",
         "offsetgroup": "Munich",
         "orientation": "v",
         "showlegend": true,
         "type": "histogram",
         "x": [
          23,
          23,
          23,
          23,
          23
         ],
         "xaxis": "x",
         "yaxis": "y"
        },
        {
         "alignmentgroup": "True",
         "bingroup": "x",
         "hovertemplate": "City=Hamburg<br>Week=%{x}<br>count=%{y}<extra></extra>",
         "legendgroup": "Hamburg",
         "marker": {
          "color": "#EF553B"
         },
         "name": "Hamburg",
         "offsetgroup": "Hamburg",
         "orientation": "v",
         "showlegend": true,
         "type": "histogram",
         "x": [
          23,
          23,
          23,
          23,
          23,
          23,
          23,
          23
         ],
         "xaxis": "x",
         "yaxis": "y"
        },
        {
         "alignmentgroup": "True",
         "bingroup": "x",
         "hovertemplate": "City=Berlin<br>Week=%{x}<br>count=%{y}<extra></extra>",
         "legendgroup": "Berlin",
         "marker": {
          "color": "#00cc96"
         },
         "name": "Berlin",
         "offsetgroup": "Berlin",
         "orientation": "v",
         "showlegend": true,
         "type": "histogram",
         "x": [
          23,
          23,
          23,
          23,
          23,
          23,
          23,
          23,
          23,
          23
         ],
         "xaxis": "x",
         "yaxis": "y"
        },
        {
         "alignmentgroup": "True",
         "bingroup": "x",
         "hovertemplate": "City=Bremen<br>Week=%{x}<br>count=%{y}<extra></extra>",
         "legendgroup": "Bremen",
         "marker": {
          "color": "#ab63fa"
         },
         "name": "Bremen",
         "offsetgroup": "Bremen",
         "orientation": "v",
         "showlegend": true,
         "type": "histogram",
         "x": [
          23
         ],
         "xaxis": "x",
         "yaxis": "y"
        },
        {
         "alignmentgroup": "True",
         "bingroup": "x",
         "hovertemplate": "City=Düsseldorf<br>Week=%{x}<br>count=%{y}<extra></extra>",
         "legendgroup": "Düsseldorf",
         "marker": {
          "color": "#FFA15A"
         },
         "name": "Düsseldorf",
         "offsetgroup": "Düsseldorf",
         "orientation": "v",
         "showlegend": true,
         "type": "histogram",
         "x": [
          23,
          24,
          24,
          23,
          24,
          24,
          24,
          24,
          24,
          24
         ],
         "xaxis": "x",
         "yaxis": "y"
        },
        {
         "alignmentgroup": "True",
         "bingroup": "x",
         "hovertemplate": "City=Gelsenkirchen<br>Week=%{x}<br>count=%{y}<extra></extra>",
         "legendgroup": "Gelsenkirchen",
         "marker": {
          "color": "#19d3f3"
         },
         "name": "Gelsenkirchen",
         "offsetgroup": "Gelsenkirchen",
         "orientation": "v",
         "showlegend": true,
         "type": "histogram",
         "x": [
          24
         ],
         "xaxis": "x",
         "yaxis": "y"
        }
       ],
       "layout": {
        "barmode": "group",
        "legend": {
         "title": {
          "text": "City"
         },
         "tracegroupgap": 0
        },
        "margin": {
         "t": 60
        },
        "template": {
         "data": {
          "bar": [
           {
            "error_x": {
             "color": "#2a3f5f"
            },
            "error_y": {
             "color": "#2a3f5f"
            },
            "marker": {
             "line": {
              "color": "#E5ECF6",
              "width": 0.5
             }
            },
            "type": "bar"
           }
          ],
          "barpolar": [
           {
            "marker": {
             "line": {
              "color": "#E5ECF6",
              "width": 0.5
             }
            },
            "type": "barpolar"
           }
          ],
          "carpet": [
           {
            "aaxis": {
             "endlinecolor": "#2a3f5f",
             "gridcolor": "white",
             "linecolor": "white",
             "minorgridcolor": "white",
             "startlinecolor": "#2a3f5f"
            },
            "baxis": {
             "endlinecolor": "#2a3f5f",
             "gridcolor": "white",
             "linecolor": "white",
             "minorgridcolor": "white",
             "startlinecolor": "#2a3f5f"
            },
            "type": "carpet"
           }
          ],
          "choropleth": [
           {
            "colorbar": {
             "outlinewidth": 0,
             "ticks": ""
            },
            "type": "choropleth"
           }
          ],
          "contour": [
           {
            "colorbar": {
             "outlinewidth": 0,
             "ticks": ""
            },
            "colorscale": [
             [
              0,
              "#0d0887"
             ],
             [
              0.1111111111111111,
              "#46039f"
             ],
             [
              0.2222222222222222,
              "#7201a8"
             ],
             [
              0.3333333333333333,
              "#9c179e"
             ],
             [
              0.4444444444444444,
              "#bd3786"
             ],
             [
              0.5555555555555556,
              "#d8576b"
             ],
             [
              0.6666666666666666,
              "#ed7953"
             ],
             [
              0.7777777777777778,
              "#fb9f3a"
             ],
             [
              0.8888888888888888,
              "#fdca26"
             ],
             [
              1,
              "#f0f921"
             ]
            ],
            "type": "contour"
           }
          ],
          "contourcarpet": [
           {
            "colorbar": {
             "outlinewidth": 0,
             "ticks": ""
            },
            "type": "contourcarpet"
           }
          ],
          "heatmap": [
           {
            "colorbar": {
             "outlinewidth": 0,
             "ticks": ""
            },
            "colorscale": [
             [
              0,
              "#0d0887"
             ],
             [
              0.1111111111111111,
              "#46039f"
             ],
             [
              0.2222222222222222,
              "#7201a8"
             ],
             [
              0.3333333333333333,
              "#9c179e"
             ],
             [
              0.4444444444444444,
              "#bd3786"
             ],
             [
              0.5555555555555556,
              "#d8576b"
             ],
             [
              0.6666666666666666,
              "#ed7953"
             ],
             [
              0.7777777777777778,
              "#fb9f3a"
             ],
             [
              0.8888888888888888,
              "#fdca26"
             ],
             [
              1,
              "#f0f921"
             ]
            ],
            "type": "heatmap"
           }
          ],
          "heatmapgl": [
           {
            "colorbar": {
             "outlinewidth": 0,
             "ticks": ""
            },
            "colorscale": [
             [
              0,
              "#0d0887"
             ],
             [
              0.1111111111111111,
              "#46039f"
             ],
             [
              0.2222222222222222,
              "#7201a8"
             ],
             [
              0.3333333333333333,
              "#9c179e"
             ],
             [
              0.4444444444444444,
              "#bd3786"
             ],
             [
              0.5555555555555556,
              "#d8576b"
             ],
             [
              0.6666666666666666,
              "#ed7953"
             ],
             [
              0.7777777777777778,
              "#fb9f3a"
             ],
             [
              0.8888888888888888,
              "#fdca26"
             ],
             [
              1,
              "#f0f921"
             ]
            ],
            "type": "heatmapgl"
           }
          ],
          "histogram": [
           {
            "marker": {
             "colorbar": {
              "outlinewidth": 0,
              "ticks": ""
             }
            },
            "type": "histogram"
           }
          ],
          "histogram2d": [
           {
            "colorbar": {
             "outlinewidth": 0,
             "ticks": ""
            },
            "colorscale": [
             [
              0,
              "#0d0887"
             ],
             [
              0.1111111111111111,
              "#46039f"
             ],
             [
              0.2222222222222222,
              "#7201a8"
             ],
             [
              0.3333333333333333,
              "#9c179e"
             ],
             [
              0.4444444444444444,
              "#bd3786"
             ],
             [
              0.5555555555555556,
              "#d8576b"
             ],
             [
              0.6666666666666666,
              "#ed7953"
             ],
             [
              0.7777777777777778,
              "#fb9f3a"
             ],
             [
              0.8888888888888888,
              "#fdca26"
             ],
             [
              1,
              "#f0f921"
             ]
            ],
            "type": "histogram2d"
           }
          ],
          "histogram2dcontour": [
           {
            "colorbar": {
             "outlinewidth": 0,
             "ticks": ""
            },
            "colorscale": [
             [
              0,
              "#0d0887"
             ],
             [
              0.1111111111111111,
              "#46039f"
             ],
             [
              0.2222222222222222,
              "#7201a8"
             ],
             [
              0.3333333333333333,
              "#9c179e"
             ],
             [
              0.4444444444444444,
              "#bd3786"
             ],
             [
              0.5555555555555556,
              "#d8576b"
             ],
             [
              0.6666666666666666,
              "#ed7953"
             ],
             [
              0.7777777777777778,
              "#fb9f3a"
             ],
             [
              0.8888888888888888,
              "#fdca26"
             ],
             [
              1,
              "#f0f921"
             ]
            ],
            "type": "histogram2dcontour"
           }
          ],
          "mesh3d": [
           {
            "colorbar": {
             "outlinewidth": 0,
             "ticks": ""
            },
            "type": "mesh3d"
           }
          ],
          "parcoords": [
           {
            "line": {
             "colorbar": {
              "outlinewidth": 0,
              "ticks": ""
             }
            },
            "type": "parcoords"
           }
          ],
          "pie": [
           {
            "automargin": true,
            "type": "pie"
           }
          ],
          "scatter": [
           {
            "marker": {
             "colorbar": {
              "outlinewidth": 0,
              "ticks": ""
             }
            },
            "type": "scatter"
           }
          ],
          "scatter3d": [
           {
            "line": {
             "colorbar": {
              "outlinewidth": 0,
              "ticks": ""
             }
            },
            "marker": {
             "colorbar": {
              "outlinewidth": 0,
              "ticks": ""
             }
            },
            "type": "scatter3d"
           }
          ],
          "scattercarpet": [
           {
            "marker": {
             "colorbar": {
              "outlinewidth": 0,
              "ticks": ""
             }
            },
            "type": "scattercarpet"
           }
          ],
          "scattergeo": [
           {
            "marker": {
             "colorbar": {
              "outlinewidth": 0,
              "ticks": ""
             }
            },
            "type": "scattergeo"
           }
          ],
          "scattergl": [
           {
            "marker": {
             "colorbar": {
              "outlinewidth": 0,
              "ticks": ""
             }
            },
            "type": "scattergl"
           }
          ],
          "scattermapbox": [
           {
            "marker": {
             "colorbar": {
              "outlinewidth": 0,
              "ticks": ""
             }
            },
            "type": "scattermapbox"
           }
          ],
          "scatterpolar": [
           {
            "marker": {
             "colorbar": {
              "outlinewidth": 0,
              "ticks": ""
             }
            },
            "type": "scatterpolar"
           }
          ],
          "scatterpolargl": [
           {
            "marker": {
             "colorbar": {
              "outlinewidth": 0,
              "ticks": ""
             }
            },
            "type": "scatterpolargl"
           }
          ],
          "scatterternary": [
           {
            "marker": {
             "colorbar": {
              "outlinewidth": 0,
              "ticks": ""
             }
            },
            "type": "scatterternary"
           }
          ],
          "surface": [
           {
            "colorbar": {
             "outlinewidth": 0,
             "ticks": ""
            },
            "colorscale": [
             [
              0,
              "#0d0887"
             ],
             [
              0.1111111111111111,
              "#46039f"
             ],
             [
              0.2222222222222222,
              "#7201a8"
             ],
             [
              0.3333333333333333,
              "#9c179e"
             ],
             [
              0.4444444444444444,
              "#bd3786"
             ],
             [
              0.5555555555555556,
              "#d8576b"
             ],
             [
              0.6666666666666666,
              "#ed7953"
             ],
             [
              0.7777777777777778,
              "#fb9f3a"
             ],
             [
              0.8888888888888888,
              "#fdca26"
             ],
             [
              1,
              "#f0f921"
             ]
            ],
            "type": "surface"
           }
          ],
          "table": [
           {
            "cells": {
             "fill": {
              "color": "#EBF0F8"
             },
             "line": {
              "color": "white"
             }
            },
            "header": {
             "fill": {
              "color": "#C8D4E3"
             },
             "line": {
              "color": "white"
             }
            },
            "type": "table"
           }
          ]
         },
         "layout": {
          "annotationdefaults": {
           "arrowcolor": "#2a3f5f",
           "arrowhead": 0,
           "arrowwidth": 1
          },
          "autotypenumbers": "strict",
          "coloraxis": {
           "colorbar": {
            "outlinewidth": 0,
            "ticks": ""
           }
          },
          "colorscale": {
           "diverging": [
            [
             0,
             "#8e0152"
            ],
            [
             0.1,
             "#c51b7d"
            ],
            [
             0.2,
             "#de77ae"
            ],
            [
             0.3,
             "#f1b6da"
            ],
            [
             0.4,
             "#fde0ef"
            ],
            [
             0.5,
             "#f7f7f7"
            ],
            [
             0.6,
             "#e6f5d0"
            ],
            [
             0.7,
             "#b8e186"
            ],
            [
             0.8,
             "#7fbc41"
            ],
            [
             0.9,
             "#4d9221"
            ],
            [
             1,
             "#276419"
            ]
           ],
           "sequential": [
            [
             0,
             "#0d0887"
            ],
            [
             0.1111111111111111,
             "#46039f"
            ],
            [
             0.2222222222222222,
             "#7201a8"
            ],
            [
             0.3333333333333333,
             "#9c179e"
            ],
            [
             0.4444444444444444,
             "#bd3786"
            ],
            [
             0.5555555555555556,
             "#d8576b"
            ],
            [
             0.6666666666666666,
             "#ed7953"
            ],
            [
             0.7777777777777778,
             "#fb9f3a"
            ],
            [
             0.8888888888888888,
             "#fdca26"
            ],
            [
             1,
             "#f0f921"
            ]
           ],
           "sequentialminus": [
            [
             0,
             "#0d0887"
            ],
            [
             0.1111111111111111,
             "#46039f"
            ],
            [
             0.2222222222222222,
             "#7201a8"
            ],
            [
             0.3333333333333333,
             "#9c179e"
            ],
            [
             0.4444444444444444,
             "#bd3786"
            ],
            [
             0.5555555555555556,
             "#d8576b"
            ],
            [
             0.6666666666666666,
             "#ed7953"
            ],
            [
             0.7777777777777778,
             "#fb9f3a"
            ],
            [
             0.8888888888888888,
             "#fdca26"
            ],
            [
             1,
             "#f0f921"
            ]
           ]
          },
          "colorway": [
           "#636efa",
           "#EF553B",
           "#00cc96",
           "#ab63fa",
           "#FFA15A",
           "#19d3f3",
           "#FF6692",
           "#B6E880",
           "#FF97FF",
           "#FECB52"
          ],
          "font": {
           "color": "#2a3f5f"
          },
          "geo": {
           "bgcolor": "white",
           "lakecolor": "white",
           "landcolor": "#E5ECF6",
           "showlakes": true,
           "showland": true,
           "subunitcolor": "white"
          },
          "hoverlabel": {
           "align": "left"
          },
          "hovermode": "closest",
          "mapbox": {
           "style": "light"
          },
          "paper_bgcolor": "white",
          "plot_bgcolor": "#E5ECF6",
          "polar": {
           "angularaxis": {
            "gridcolor": "white",
            "linecolor": "white",
            "ticks": ""
           },
           "bgcolor": "#E5ECF6",
           "radialaxis": {
            "gridcolor": "white",
            "linecolor": "white",
            "ticks": ""
           }
          },
          "scene": {
           "xaxis": {
            "backgroundcolor": "#E5ECF6",
            "gridcolor": "white",
            "gridwidth": 2,
            "linecolor": "white",
            "showbackground": true,
            "ticks": "",
            "zerolinecolor": "white"
           },
           "yaxis": {
            "backgroundcolor": "#E5ECF6",
            "gridcolor": "white",
            "gridwidth": 2,
            "linecolor": "white",
            "showbackground": true,
            "ticks": "",
            "zerolinecolor": "white"
           },
           "zaxis": {
            "backgroundcolor": "#E5ECF6",
            "gridcolor": "white",
            "gridwidth": 2,
            "linecolor": "white",
            "showbackground": true,
            "ticks": "",
            "zerolinecolor": "white"
           }
          },
          "shapedefaults": {
           "line": {
            "color": "#2a3f5f"
           }
          },
          "ternary": {
           "aaxis": {
            "gridcolor": "white",
            "linecolor": "white",
            "ticks": ""
           },
           "baxis": {
            "gridcolor": "white",
            "linecolor": "white",
            "ticks": ""
           },
           "bgcolor": "#E5ECF6",
           "caxis": {
            "gridcolor": "white",
            "linecolor": "white",
            "ticks": ""
           }
          },
          "title": {
           "x": 0.05
          },
          "xaxis": {
           "automargin": true,
           "gridcolor": "white",
           "linecolor": "white",
           "ticks": "",
           "title": {
            "standoff": 15
           },
           "zerolinecolor": "white",
           "zerolinewidth": 2
          },
          "yaxis": {
           "automargin": true,
           "gridcolor": "white",
           "linecolor": "white",
           "ticks": "",
           "title": {
            "standoff": 15
           },
           "zerolinecolor": "white",
           "zerolinewidth": 2
          }
         }
        },
        "xaxis": {
         "anchor": "y",
         "domain": [
          0,
          1
         ],
         "title": {
          "text": "Week"
         }
        },
        "yaxis": {
         "anchor": "x",
         "domain": [
          0,
          1
         ],
         "title": {
          "text": "count"
         }
        }
       }
      },
      "text/html": [
       "<div>                            <div id=\"f57d10dd-6983-41bf-9e07-4a76682f6bbc\" class=\"plotly-graph-div\" style=\"height:525px; width:100%;\"></div>            <script type=\"text/javascript\">                require([\"plotly\"], function(Plotly) {                    window.PLOTLYENV=window.PLOTLYENV || {};                                    if (document.getElementById(\"f57d10dd-6983-41bf-9e07-4a76682f6bbc\")) {                    Plotly.newPlot(                        \"f57d10dd-6983-41bf-9e07-4a76682f6bbc\",                        [{\"alignmentgroup\": \"True\", \"bingroup\": \"x\", \"hovertemplate\": \"City=Munich<br>Week=%{x}<br>count=%{y}<extra></extra>\", \"legendgroup\": \"Munich\", \"marker\": {\"color\": \"#636efa\"}, \"name\": \"Munich\", \"offsetgroup\": \"Munich\", \"orientation\": \"v\", \"showlegend\": true, \"type\": \"histogram\", \"x\": [23, 23, 23, 23, 23], \"xaxis\": \"x\", \"yaxis\": \"y\"}, {\"alignmentgroup\": \"True\", \"bingroup\": \"x\", \"hovertemplate\": \"City=Hamburg<br>Week=%{x}<br>count=%{y}<extra></extra>\", \"legendgroup\": \"Hamburg\", \"marker\": {\"color\": \"#EF553B\"}, \"name\": \"Hamburg\", \"offsetgroup\": \"Hamburg\", \"orientation\": \"v\", \"showlegend\": true, \"type\": \"histogram\", \"x\": [23, 23, 23, 23, 23, 23, 23, 23], \"xaxis\": \"x\", \"yaxis\": \"y\"}, {\"alignmentgroup\": \"True\", \"bingroup\": \"x\", \"hovertemplate\": \"City=Berlin<br>Week=%{x}<br>count=%{y}<extra></extra>\", \"legendgroup\": \"Berlin\", \"marker\": {\"color\": \"#00cc96\"}, \"name\": \"Berlin\", \"offsetgroup\": \"Berlin\", \"orientation\": \"v\", \"showlegend\": true, \"type\": \"histogram\", \"x\": [23, 23, 23, 23, 23, 23, 23, 23, 23, 23], \"xaxis\": \"x\", \"yaxis\": \"y\"}, {\"alignmentgroup\": \"True\", \"bingroup\": \"x\", \"hovertemplate\": \"City=Bremen<br>Week=%{x}<br>count=%{y}<extra></extra>\", \"legendgroup\": \"Bremen\", \"marker\": {\"color\": \"#ab63fa\"}, \"name\": \"Bremen\", \"offsetgroup\": \"Bremen\", \"orientation\": \"v\", \"showlegend\": true, \"type\": \"histogram\", \"x\": [23], \"xaxis\": \"x\", \"yaxis\": \"y\"}, {\"alignmentgroup\": \"True\", \"bingroup\": \"x\", \"hovertemplate\": \"City=D\\u00fcsseldorf<br>Week=%{x}<br>count=%{y}<extra></extra>\", \"legendgroup\": \"D\\u00fcsseldorf\", \"marker\": {\"color\": \"#FFA15A\"}, \"name\": \"D\\u00fcsseldorf\", \"offsetgroup\": \"D\\u00fcsseldorf\", \"orientation\": \"v\", \"showlegend\": true, \"type\": \"histogram\", \"x\": [23, 24, 24, 23, 24, 24, 24, 24, 24, 24], \"xaxis\": \"x\", \"yaxis\": \"y\"}, {\"alignmentgroup\": \"True\", \"bingroup\": \"x\", \"hovertemplate\": \"City=Gelsenkirchen<br>Week=%{x}<br>count=%{y}<extra></extra>\", \"legendgroup\": \"Gelsenkirchen\", \"marker\": {\"color\": \"#19d3f3\"}, \"name\": \"Gelsenkirchen\", \"offsetgroup\": \"Gelsenkirchen\", \"orientation\": \"v\", \"showlegend\": true, \"type\": \"histogram\", \"x\": [24], \"xaxis\": \"x\", \"yaxis\": \"y\"}],                        {\"barmode\": \"group\", \"legend\": {\"title\": {\"text\": \"City\"}, \"tracegroupgap\": 0}, \"margin\": {\"t\": 60}, \"template\": {\"data\": {\"bar\": [{\"error_x\": {\"color\": \"#2a3f5f\"}, \"error_y\": {\"color\": \"#2a3f5f\"}, \"marker\": {\"line\": {\"color\": \"#E5ECF6\", \"width\": 0.5}}, \"type\": \"bar\"}], \"barpolar\": [{\"marker\": {\"line\": {\"color\": \"#E5ECF6\", \"width\": 0.5}}, \"type\": \"barpolar\"}], \"carpet\": [{\"aaxis\": {\"endlinecolor\": \"#2a3f5f\", \"gridcolor\": \"white\", \"linecolor\": \"white\", \"minorgridcolor\": \"white\", \"startlinecolor\": \"#2a3f5f\"}, \"baxis\": {\"endlinecolor\": \"#2a3f5f\", \"gridcolor\": \"white\", \"linecolor\": \"white\", \"minorgridcolor\": \"white\", \"startlinecolor\": \"#2a3f5f\"}, \"type\": \"carpet\"}], \"choropleth\": [{\"colorbar\": {\"outlinewidth\": 0, \"ticks\": \"\"}, \"type\": \"choropleth\"}], \"contour\": [{\"colorbar\": {\"outlinewidth\": 0, \"ticks\": \"\"}, \"colorscale\": [[0.0, \"#0d0887\"], [0.1111111111111111, \"#46039f\"], [0.2222222222222222, \"#7201a8\"], [0.3333333333333333, \"#9c179e\"], [0.4444444444444444, \"#bd3786\"], [0.5555555555555556, \"#d8576b\"], [0.6666666666666666, \"#ed7953\"], [0.7777777777777778, \"#fb9f3a\"], [0.8888888888888888, \"#fdca26\"], [1.0, \"#f0f921\"]], \"type\": \"contour\"}], \"contourcarpet\": [{\"colorbar\": {\"outlinewidth\": 0, \"ticks\": \"\"}, \"type\": \"contourcarpet\"}], \"heatmap\": [{\"colorbar\": {\"outlinewidth\": 0, \"ticks\": \"\"}, \"colorscale\": [[0.0, \"#0d0887\"], [0.1111111111111111, \"#46039f\"], [0.2222222222222222, \"#7201a8\"], [0.3333333333333333, \"#9c179e\"], [0.4444444444444444, \"#bd3786\"], [0.5555555555555556, \"#d8576b\"], [0.6666666666666666, \"#ed7953\"], [0.7777777777777778, \"#fb9f3a\"], [0.8888888888888888, \"#fdca26\"], [1.0, \"#f0f921\"]], \"type\": \"heatmap\"}], \"heatmapgl\": [{\"colorbar\": {\"outlinewidth\": 0, \"ticks\": \"\"}, \"colorscale\": [[0.0, \"#0d0887\"], [0.1111111111111111, \"#46039f\"], [0.2222222222222222, \"#7201a8\"], [0.3333333333333333, \"#9c179e\"], [0.4444444444444444, \"#bd3786\"], [0.5555555555555556, \"#d8576b\"], [0.6666666666666666, \"#ed7953\"], [0.7777777777777778, \"#fb9f3a\"], [0.8888888888888888, \"#fdca26\"], [1.0, \"#f0f921\"]], \"type\": \"heatmapgl\"}], \"histogram\": [{\"marker\": {\"colorbar\": {\"outlinewidth\": 0, \"ticks\": \"\"}}, \"type\": \"histogram\"}], \"histogram2d\": [{\"colorbar\": {\"outlinewidth\": 0, \"ticks\": \"\"}, \"colorscale\": [[0.0, \"#0d0887\"], [0.1111111111111111, \"#46039f\"], [0.2222222222222222, \"#7201a8\"], [0.3333333333333333, \"#9c179e\"], [0.4444444444444444, \"#bd3786\"], [0.5555555555555556, \"#d8576b\"], [0.6666666666666666, \"#ed7953\"], [0.7777777777777778, \"#fb9f3a\"], [0.8888888888888888, \"#fdca26\"], [1.0, \"#f0f921\"]], \"type\": \"histogram2d\"}], \"histogram2dcontour\": [{\"colorbar\": {\"outlinewidth\": 0, \"ticks\": \"\"}, \"colorscale\": [[0.0, \"#0d0887\"], [0.1111111111111111, \"#46039f\"], [0.2222222222222222, \"#7201a8\"], [0.3333333333333333, \"#9c179e\"], [0.4444444444444444, \"#bd3786\"], [0.5555555555555556, \"#d8576b\"], [0.6666666666666666, \"#ed7953\"], [0.7777777777777778, \"#fb9f3a\"], [0.8888888888888888, \"#fdca26\"], [1.0, \"#f0f921\"]], \"type\": \"histogram2dcontour\"}], \"mesh3d\": [{\"colorbar\": {\"outlinewidth\": 0, \"ticks\": \"\"}, \"type\": \"mesh3d\"}], \"parcoords\": [{\"line\": {\"colorbar\": {\"outlinewidth\": 0, \"ticks\": \"\"}}, \"type\": \"parcoords\"}], \"pie\": [{\"automargin\": true, \"type\": \"pie\"}], \"scatter\": [{\"marker\": {\"colorbar\": {\"outlinewidth\": 0, \"ticks\": \"\"}}, \"type\": \"scatter\"}], \"scatter3d\": [{\"line\": {\"colorbar\": {\"outlinewidth\": 0, \"ticks\": \"\"}}, \"marker\": {\"colorbar\": {\"outlinewidth\": 0, \"ticks\": \"\"}}, \"type\": \"scatter3d\"}], \"scattercarpet\": [{\"marker\": {\"colorbar\": {\"outlinewidth\": 0, \"ticks\": \"\"}}, \"type\": \"scattercarpet\"}], \"scattergeo\": [{\"marker\": {\"colorbar\": {\"outlinewidth\": 0, \"ticks\": \"\"}}, \"type\": \"scattergeo\"}], \"scattergl\": [{\"marker\": {\"colorbar\": {\"outlinewidth\": 0, \"ticks\": \"\"}}, \"type\": \"scattergl\"}], \"scattermapbox\": [{\"marker\": {\"colorbar\": {\"outlinewidth\": 0, \"ticks\": \"\"}}, \"type\": \"scattermapbox\"}], \"scatterpolar\": [{\"marker\": {\"colorbar\": {\"outlinewidth\": 0, \"ticks\": \"\"}}, \"type\": \"scatterpolar\"}], \"scatterpolargl\": [{\"marker\": {\"colorbar\": {\"outlinewidth\": 0, \"ticks\": \"\"}}, \"type\": \"scatterpolargl\"}], \"scatterternary\": [{\"marker\": {\"colorbar\": {\"outlinewidth\": 0, \"ticks\": \"\"}}, \"type\": \"scatterternary\"}], \"surface\": [{\"colorbar\": {\"outlinewidth\": 0, \"ticks\": \"\"}, \"colorscale\": [[0.0, \"#0d0887\"], [0.1111111111111111, \"#46039f\"], [0.2222222222222222, \"#7201a8\"], [0.3333333333333333, \"#9c179e\"], [0.4444444444444444, \"#bd3786\"], [0.5555555555555556, \"#d8576b\"], [0.6666666666666666, \"#ed7953\"], [0.7777777777777778, \"#fb9f3a\"], [0.8888888888888888, \"#fdca26\"], [1.0, \"#f0f921\"]], \"type\": \"surface\"}], \"table\": [{\"cells\": {\"fill\": {\"color\": \"#EBF0F8\"}, \"line\": {\"color\": \"white\"}}, \"header\": {\"fill\": {\"color\": \"#C8D4E3\"}, \"line\": {\"color\": \"white\"}}, \"type\": \"table\"}]}, \"layout\": {\"annotationdefaults\": {\"arrowcolor\": \"#2a3f5f\", \"arrowhead\": 0, \"arrowwidth\": 1}, \"autotypenumbers\": \"strict\", \"coloraxis\": {\"colorbar\": {\"outlinewidth\": 0, \"ticks\": \"\"}}, \"colorscale\": {\"diverging\": [[0, \"#8e0152\"], [0.1, \"#c51b7d\"], [0.2, \"#de77ae\"], [0.3, \"#f1b6da\"], [0.4, \"#fde0ef\"], [0.5, \"#f7f7f7\"], [0.6, \"#e6f5d0\"], [0.7, \"#b8e186\"], [0.8, \"#7fbc41\"], [0.9, \"#4d9221\"], [1, \"#276419\"]], \"sequential\": [[0.0, \"#0d0887\"], [0.1111111111111111, \"#46039f\"], [0.2222222222222222, \"#7201a8\"], [0.3333333333333333, \"#9c179e\"], [0.4444444444444444, \"#bd3786\"], [0.5555555555555556, \"#d8576b\"], [0.6666666666666666, \"#ed7953\"], [0.7777777777777778, \"#fb9f3a\"], [0.8888888888888888, \"#fdca26\"], [1.0, \"#f0f921\"]], \"sequentialminus\": [[0.0, \"#0d0887\"], [0.1111111111111111, \"#46039f\"], [0.2222222222222222, \"#7201a8\"], [0.3333333333333333, \"#9c179e\"], [0.4444444444444444, \"#bd3786\"], [0.5555555555555556, \"#d8576b\"], [0.6666666666666666, \"#ed7953\"], [0.7777777777777778, \"#fb9f3a\"], [0.8888888888888888, \"#fdca26\"], [1.0, \"#f0f921\"]]}, \"colorway\": [\"#636efa\", \"#EF553B\", \"#00cc96\", \"#ab63fa\", \"#FFA15A\", \"#19d3f3\", \"#FF6692\", \"#B6E880\", \"#FF97FF\", \"#FECB52\"], \"font\": {\"color\": \"#2a3f5f\"}, \"geo\": {\"bgcolor\": \"white\", \"lakecolor\": \"white\", \"landcolor\": \"#E5ECF6\", \"showlakes\": true, \"showland\": true, \"subunitcolor\": \"white\"}, \"hoverlabel\": {\"align\": \"left\"}, \"hovermode\": \"closest\", \"mapbox\": {\"style\": \"light\"}, \"paper_bgcolor\": \"white\", \"plot_bgcolor\": \"#E5ECF6\", \"polar\": {\"angularaxis\": {\"gridcolor\": \"white\", \"linecolor\": \"white\", \"ticks\": \"\"}, \"bgcolor\": \"#E5ECF6\", \"radialaxis\": {\"gridcolor\": \"white\", \"linecolor\": \"white\", \"ticks\": \"\"}}, \"scene\": {\"xaxis\": {\"backgroundcolor\": \"#E5ECF6\", \"gridcolor\": \"white\", \"gridwidth\": 2, \"linecolor\": \"white\", \"showbackground\": true, \"ticks\": \"\", \"zerolinecolor\": \"white\"}, \"yaxis\": {\"backgroundcolor\": \"#E5ECF6\", \"gridcolor\": \"white\", \"gridwidth\": 2, \"linecolor\": \"white\", \"showbackground\": true, \"ticks\": \"\", \"zerolinecolor\": \"white\"}, \"zaxis\": {\"backgroundcolor\": \"#E5ECF6\", \"gridcolor\": \"white\", \"gridwidth\": 2, \"linecolor\": \"white\", \"showbackground\": true, \"ticks\": \"\", \"zerolinecolor\": \"white\"}}, \"shapedefaults\": {\"line\": {\"color\": \"#2a3f5f\"}}, \"ternary\": {\"aaxis\": {\"gridcolor\": \"white\", \"linecolor\": \"white\", \"ticks\": \"\"}, \"baxis\": {\"gridcolor\": \"white\", \"linecolor\": \"white\", \"ticks\": \"\"}, \"bgcolor\": \"#E5ECF6\", \"caxis\": {\"gridcolor\": \"white\", \"linecolor\": \"white\", \"ticks\": \"\"}}, \"title\": {\"x\": 0.05}, \"xaxis\": {\"automargin\": true, \"gridcolor\": \"white\", \"linecolor\": \"white\", \"ticks\": \"\", \"title\": {\"standoff\": 15}, \"zerolinecolor\": \"white\", \"zerolinewidth\": 2}, \"yaxis\": {\"automargin\": true, \"gridcolor\": \"white\", \"linecolor\": \"white\", \"ticks\": \"\", \"title\": {\"standoff\": 15}, \"zerolinecolor\": \"white\", \"zerolinewidth\": 2}}}, \"xaxis\": {\"anchor\": \"y\", \"domain\": [0.0, 1.0], \"title\": {\"text\": \"Week\"}}, \"yaxis\": {\"anchor\": \"x\", \"domain\": [0.0, 1.0], \"title\": {\"text\": \"count\"}}},                        {\"responsive\": true}                    ).then(function(){\n",
       "                            \n",
       "var gd = document.getElementById('f57d10dd-6983-41bf-9e07-4a76682f6bbc');\n",
       "var x = new MutationObserver(function (mutations, observer) {{\n",
       "        var display = window.getComputedStyle(gd).display;\n",
       "        if (!display || display === 'none') {{\n",
       "            console.log([gd, 'removed!']);\n",
       "            Plotly.purge(gd);\n",
       "            observer.disconnect();\n",
       "        }}\n",
       "}});\n",
       "\n",
       "// Listen for the removal of the full notebook cells\n",
       "var notebookContainer = gd.closest('#notebook-container');\n",
       "if (notebookContainer) {{\n",
       "    x.observe(notebookContainer, {childList: true});\n",
       "}}\n",
       "\n",
       "// Listen for the clearing of the current output cell\n",
       "var outputEl = gd.closest('.output');\n",
       "if (outputEl) {{\n",
       "    x.observe(outputEl, {childList: true});\n",
       "}}\n",
       "\n",
       "                        })                };                });            </script>        </div>"
      ]
     },
     "metadata": {},
     "output_type": "display_data"
    }
   ],
   "source": [
    "df_already_assigned['Week'] = df_already_assigned.start_date.apply(lambda date: pd.to_datetime(date).isocalendar()[1])\n",
    "fig = px.histogram(df_already_assigned, x='Week', color=\"City\", barmode='group')\n",
    "fig.write_html(\"assign_report_per_week.html\")\n",
    "fig"
   ]
  },
  {
   "cell_type": "code",
   "execution_count": 19,
   "id": "810e79fb",
   "metadata": {
    "ExecuteTime": {
     "end_time": "2021-06-04T08:28:48.050032Z",
     "start_time": "2021-06-04T08:28:47.887236Z"
    }
   },
   "outputs": [
    {
     "data": {
      "application/vnd.plotly.v1+json": {
       "config": {
        "plotlyServerURL": "https://plot.ly"
       },
       "data": [
        {
         "branchvalues": "total",
         "customdata": [
          [
           0,
           100,
           100
          ],
          [
           1,
           66.66666666666667,
           66.66666666666667
          ],
          [
           1,
           80,
           80
          ],
          [
           2,
           0,
           0
          ],
          [
           0,
           100,
           100
          ],
          [
           0,
           100,
           100
          ],
          [
           0,
           100,
           100
          ],
          [
           0,
           100,
           100
          ],
          [
           0,
           100,
           100
          ],
          [
           1,
           50,
           50
          ],
          [
           0,
           100,
           100
          ],
          [
           4,
           20,
           20
          ],
          [
           2,
           0,
           0
          ],
          [
           1,
           66.66666666666667,
           66.66666666666667
          ],
          [
           0,
           100,
           100
          ],
          [
           0,
           100,
           100
          ],
          [
           1,
           0,
           0
          ],
          [
           1,
           66.66666666666667,
           66.66666666666667
          ],
          [
           1,
           80,
           80
          ],
          [
           2,
           0,
           0
          ],
          [
           2,
           60,
           60
          ],
          [
           0,
           100,
           100
          ],
          [
           2,
           0,
           0
          ],
          [
           2,
           0,
           0
          ],
          [
           3,
           0,
           0
          ],
          [
           2,
           0,
           0
          ],
          [
           1,
           50,
           50
          ],
          [
           2,
           0,
           0
          ],
          [
           1,
           0,
           0
          ],
          [
           2,
           33.333333333333336,
           33.333333333333336
          ],
          [
           0,
           100,
           100
          ],
          [
           1,
           50,
           50
          ],
          [
           0,
           100,
           100
          ],
          [
           2,
           0,
           0
          ],
          [
           1,
           50,
           50
          ],
          [
           2,
           0,
           0
          ],
          [
           1,
           50,
           50
          ],
          [
           3,
           0,
           0
          ],
          [
           3,
           0,
           0
          ],
          [
           2,
           0,
           0
          ],
          [
           0,
           100,
           100
          ],
          [
           0,
           100,
           100
          ],
          [
           1,
           50,
           50
          ],
          [
           2,
           0,
           0
          ],
          [
           "(?)",
           64.28571428571429,
           64.28571428571429
          ],
          [
           4,
           20,
           20
          ],
          [
           0,
           100,
           100
          ],
          [
           1,
           80,
           80
          ],
          [
           2,
           0,
           0
          ],
          [
           2,
           60,
           60
          ],
          [
           1,
           80,
           80
          ],
          [
           "(?)",
           33.333333333333336,
           33.333333333333336
          ],
          [
           0,
           100,
           100
          ],
          [
           1,
           0,
           0
          ],
          [
           2,
           0,
           0
          ],
          [
           "(?)",
           33.333333333333336,
           33.333333333333336
          ],
          [
           1,
           0,
           0
          ]
         ],
         "domain": {
          "x": [
           0,
           1
          ],
          "y": [
           0,
           1
          ]
         },
         "hovertemplate": "<b></b>%{label}<br>Riders needed: %{value}<br>Riders assigned: %{customdata[0]}<br> % missing: %{color}",
         "ids": [
          "Cologne/ALTSTADT | Köln",
          "Munich/AU-HAIDHAUSEN | Mnchen Rider",
          "Gelsenkirchen/BAHNHOF | Gelsenkirchen",
          "Hamburg/BARMBEK | Hamburg",
          "Heidelberg/BERHGHEIM | Heidelberg",
          "Berlin/BKIEZ | Berlin",
          "Berlin/CBURG | Berlin",
          "Berlin/CHARLIE | Berlin",
          "Cologne/EHRE | Köln",
          "Hamburg/EIMSBUSH | Hamburg",
          "Berlin/FHAIN | Berlin",
          "Bremen/FINDORFF | Bremen",
          "Düsseldorf/FLINGERN | Dsseldorf",
          "Munich/FRAUNHOFER | Mnchen Rider",
          "Berlin/FRIEDENAU | Berlin",
          "Berlin/GBRUNNEN | Berlin",
          "Stuttgart/GUTENBERG | Stuttgart",
          "Munich/HADERN | Mnchen",
          "Dortmund/HANSA | Dortmund",
          "Düsseldorf/HERZOG | Dsseldorf",
          "Essen/HOHENZOLLERN | Essen",
          "Cologne/INNEN | Köln",
          "Düsseldorf/KAISER | Dsseldorf",
          "Leipzig/KONSTANTIN | Leipzig",
          "Munich/LAIM | Mnchen Rider",
          "Hamburg/LUFT | Hamburg",
          "Berlin/MITTE | Berlin",
          "Berlin/MOABIT | Berlin",
          "Karlsruhe/MUEHLBURG | Karlsruhe",
          "Munich/NEUHAUSEN | Mnchen Rider",
          "Cologne/NIPPES | Köln",
          "Hamburg/OTTENSEN | Hamburg",
          "Berlin/PANKOW | Berlin",
          "Berlin/PBERG | Berlin",
          "Berlin/RUNGE | Berlin",
          "Berlin/SBERG | Berlin",
          "Hamburg/SCHANZE | Hamburg",
          "Munich/SCHWABING | Mnchen Rider",
          "Munich/SENDLINGEN | Mnchen Rider",
          "Düsseldorf/STADTBEZIRK 1 | Dsseldorf",
          "Berlin/STEGLITZ | Berlin",
          "Cologne/SUELZ | Köln",
          "Hamburg/WHOOD | Hamburg",
          "Berlin/XBERG | Berlin",
          "Berlin",
          "Bremen",
          "Cologne",
          "Dortmund",
          "Düsseldorf",
          "Essen",
          "Gelsenkirchen",
          "Hamburg",
          "Heidelberg",
          "Karlsruhe",
          "Leipzig",
          "Munich",
          "Stuttgart"
         ],
         "labels": [
          "ALTSTADT | Köln",
          "AU-HAIDHAUSEN | Mnchen Rider",
          "BAHNHOF | Gelsenkirchen",
          "BARMBEK | Hamburg",
          "BERHGHEIM | Heidelberg",
          "BKIEZ | Berlin",
          "CBURG | Berlin",
          "CHARLIE | Berlin",
          "EHRE | Köln",
          "EIMSBUSH | Hamburg",
          "FHAIN | Berlin",
          "FINDORFF | Bremen",
          "FLINGERN | Dsseldorf",
          "FRAUNHOFER | Mnchen Rider",
          "FRIEDENAU | Berlin",
          "GBRUNNEN | Berlin",
          "GUTENBERG | Stuttgart",
          "HADERN | Mnchen",
          "HANSA | Dortmund",
          "HERZOG | Dsseldorf",
          "HOHENZOLLERN | Essen",
          "INNEN | Köln",
          "KAISER | Dsseldorf",
          "KONSTANTIN | Leipzig",
          "LAIM | Mnchen Rider",
          "LUFT | Hamburg",
          "MITTE | Berlin",
          "MOABIT | Berlin",
          "MUEHLBURG | Karlsruhe",
          "NEUHAUSEN | Mnchen Rider",
          "NIPPES | Köln",
          "OTTENSEN | Hamburg",
          "PANKOW | Berlin",
          "PBERG | Berlin",
          "RUNGE | Berlin",
          "SBERG | Berlin",
          "SCHANZE | Hamburg",
          "SCHWABING | Mnchen Rider",
          "SENDLINGEN | Mnchen Rider",
          "STADTBEZIRK 1 | Dsseldorf",
          "STEGLITZ | Berlin",
          "SUELZ | Köln",
          "WHOOD | Hamburg",
          "XBERG | Berlin",
          "Berlin",
          "Bremen",
          "Cologne",
          "Dortmund",
          "Düsseldorf",
          "Essen",
          "Gelsenkirchen",
          "Hamburg",
          "Heidelberg",
          "Karlsruhe",
          "Leipzig",
          "Munich",
          "Stuttgart"
         ],
         "marker": {
          "coloraxis": "coloraxis",
          "colors": [
           100,
           66.66666666666667,
           80,
           0,
           100,
           100,
           100,
           100,
           100,
           50,
           100,
           20,
           0,
           66.66666666666667,
           100,
           100,
           0,
           66.66666666666667,
           80,
           0,
           60,
           100,
           0,
           0,
           0,
           0,
           50,
           0,
           0,
           33.333333333333336,
           100,
           50,
           100,
           0,
           50,
           0,
           50,
           0,
           0,
           0,
           100,
           100,
           50,
           0,
           64.28571428571429,
           20,
           100,
           80,
           0,
           60,
           80,
           33.333333333333336,
           100,
           0,
           0,
           33.333333333333336,
           0
          ]
         },
         "name": "",
         "parents": [
          "Cologne",
          "Munich",
          "Gelsenkirchen",
          "Hamburg",
          "Heidelberg",
          "Berlin",
          "Berlin",
          "Berlin",
          "Cologne",
          "Hamburg",
          "Berlin",
          "Bremen",
          "Düsseldorf",
          "Munich",
          "Berlin",
          "Berlin",
          "Stuttgart",
          "Munich",
          "Dortmund",
          "Düsseldorf",
          "Essen",
          "Cologne",
          "Düsseldorf",
          "Leipzig",
          "Munich",
          "Hamburg",
          "Berlin",
          "Berlin",
          "Karlsruhe",
          "Munich",
          "Cologne",
          "Hamburg",
          "Berlin",
          "Berlin",
          "Berlin",
          "Berlin",
          "Hamburg",
          "Munich",
          "Munich",
          "Düsseldorf",
          "Berlin",
          "Cologne",
          "Hamburg",
          "Berlin",
          "",
          "",
          "",
          "",
          "",
          "",
          "",
          "",
          "",
          "",
          "",
          "",
          ""
         ],
         "type": "treemap",
         "values": [
          2,
          3,
          5,
          2,
          5,
          2,
          2,
          2,
          2,
          2,
          2,
          5,
          2,
          3,
          2,
          2,
          1,
          3,
          5,
          2,
          5,
          2,
          2,
          2,
          3,
          2,
          2,
          2,
          1,
          3,
          2,
          2,
          2,
          2,
          2,
          2,
          2,
          3,
          3,
          2,
          2,
          2,
          2,
          2,
          28,
          5,
          10,
          5,
          8,
          5,
          5,
          12,
          5,
          1,
          2,
          21,
          1
         ]
        }
       ],
       "layout": {
        "coloraxis": {
         "colorbar": {
          "title": {
           "text": "Missing %"
          }
         },
         "colorscale": [
          [
           0,
           "rgb(12,51,131)"
          ],
          [
           0.25,
           "rgb(10,136,186)"
          ],
          [
           0.5,
           "rgb(242,211,56)"
          ],
          [
           0.75,
           "rgb(242,143,56)"
          ],
          [
           1,
           "rgb(217,30,30)"
          ]
         ]
        },
        "legend": {
         "tracegroupgap": 0
        },
        "template": {
         "data": {
          "bar": [
           {
            "error_x": {
             "color": "#2a3f5f"
            },
            "error_y": {
             "color": "#2a3f5f"
            },
            "marker": {
             "line": {
              "color": "#E5ECF6",
              "width": 0.5
             }
            },
            "type": "bar"
           }
          ],
          "barpolar": [
           {
            "marker": {
             "line": {
              "color": "#E5ECF6",
              "width": 0.5
             }
            },
            "type": "barpolar"
           }
          ],
          "carpet": [
           {
            "aaxis": {
             "endlinecolor": "#2a3f5f",
             "gridcolor": "white",
             "linecolor": "white",
             "minorgridcolor": "white",
             "startlinecolor": "#2a3f5f"
            },
            "baxis": {
             "endlinecolor": "#2a3f5f",
             "gridcolor": "white",
             "linecolor": "white",
             "minorgridcolor": "white",
             "startlinecolor": "#2a3f5f"
            },
            "type": "carpet"
           }
          ],
          "choropleth": [
           {
            "colorbar": {
             "outlinewidth": 0,
             "ticks": ""
            },
            "type": "choropleth"
           }
          ],
          "contour": [
           {
            "colorbar": {
             "outlinewidth": 0,
             "ticks": ""
            },
            "colorscale": [
             [
              0,
              "#0d0887"
             ],
             [
              0.1111111111111111,
              "#46039f"
             ],
             [
              0.2222222222222222,
              "#7201a8"
             ],
             [
              0.3333333333333333,
              "#9c179e"
             ],
             [
              0.4444444444444444,
              "#bd3786"
             ],
             [
              0.5555555555555556,
              "#d8576b"
             ],
             [
              0.6666666666666666,
              "#ed7953"
             ],
             [
              0.7777777777777778,
              "#fb9f3a"
             ],
             [
              0.8888888888888888,
              "#fdca26"
             ],
             [
              1,
              "#f0f921"
             ]
            ],
            "type": "contour"
           }
          ],
          "contourcarpet": [
           {
            "colorbar": {
             "outlinewidth": 0,
             "ticks": ""
            },
            "type": "contourcarpet"
           }
          ],
          "heatmap": [
           {
            "colorbar": {
             "outlinewidth": 0,
             "ticks": ""
            },
            "colorscale": [
             [
              0,
              "#0d0887"
             ],
             [
              0.1111111111111111,
              "#46039f"
             ],
             [
              0.2222222222222222,
              "#7201a8"
             ],
             [
              0.3333333333333333,
              "#9c179e"
             ],
             [
              0.4444444444444444,
              "#bd3786"
             ],
             [
              0.5555555555555556,
              "#d8576b"
             ],
             [
              0.6666666666666666,
              "#ed7953"
             ],
             [
              0.7777777777777778,
              "#fb9f3a"
             ],
             [
              0.8888888888888888,
              "#fdca26"
             ],
             [
              1,
              "#f0f921"
             ]
            ],
            "type": "heatmap"
           }
          ],
          "heatmapgl": [
           {
            "colorbar": {
             "outlinewidth": 0,
             "ticks": ""
            },
            "colorscale": [
             [
              0,
              "#0d0887"
             ],
             [
              0.1111111111111111,
              "#46039f"
             ],
             [
              0.2222222222222222,
              "#7201a8"
             ],
             [
              0.3333333333333333,
              "#9c179e"
             ],
             [
              0.4444444444444444,
              "#bd3786"
             ],
             [
              0.5555555555555556,
              "#d8576b"
             ],
             [
              0.6666666666666666,
              "#ed7953"
             ],
             [
              0.7777777777777778,
              "#fb9f3a"
             ],
             [
              0.8888888888888888,
              "#fdca26"
             ],
             [
              1,
              "#f0f921"
             ]
            ],
            "type": "heatmapgl"
           }
          ],
          "histogram": [
           {
            "marker": {
             "colorbar": {
              "outlinewidth": 0,
              "ticks": ""
             }
            },
            "type": "histogram"
           }
          ],
          "histogram2d": [
           {
            "colorbar": {
             "outlinewidth": 0,
             "ticks": ""
            },
            "colorscale": [
             [
              0,
              "#0d0887"
             ],
             [
              0.1111111111111111,
              "#46039f"
             ],
             [
              0.2222222222222222,
              "#7201a8"
             ],
             [
              0.3333333333333333,
              "#9c179e"
             ],
             [
              0.4444444444444444,
              "#bd3786"
             ],
             [
              0.5555555555555556,
              "#d8576b"
             ],
             [
              0.6666666666666666,
              "#ed7953"
             ],
             [
              0.7777777777777778,
              "#fb9f3a"
             ],
             [
              0.8888888888888888,
              "#fdca26"
             ],
             [
              1,
              "#f0f921"
             ]
            ],
            "type": "histogram2d"
           }
          ],
          "histogram2dcontour": [
           {
            "colorbar": {
             "outlinewidth": 0,
             "ticks": ""
            },
            "colorscale": [
             [
              0,
              "#0d0887"
             ],
             [
              0.1111111111111111,
              "#46039f"
             ],
             [
              0.2222222222222222,
              "#7201a8"
             ],
             [
              0.3333333333333333,
              "#9c179e"
             ],
             [
              0.4444444444444444,
              "#bd3786"
             ],
             [
              0.5555555555555556,
              "#d8576b"
             ],
             [
              0.6666666666666666,
              "#ed7953"
             ],
             [
              0.7777777777777778,
              "#fb9f3a"
             ],
             [
              0.8888888888888888,
              "#fdca26"
             ],
             [
              1,
              "#f0f921"
             ]
            ],
            "type": "histogram2dcontour"
           }
          ],
          "mesh3d": [
           {
            "colorbar": {
             "outlinewidth": 0,
             "ticks": ""
            },
            "type": "mesh3d"
           }
          ],
          "parcoords": [
           {
            "line": {
             "colorbar": {
              "outlinewidth": 0,
              "ticks": ""
             }
            },
            "type": "parcoords"
           }
          ],
          "pie": [
           {
            "automargin": true,
            "type": "pie"
           }
          ],
          "scatter": [
           {
            "marker": {
             "colorbar": {
              "outlinewidth": 0,
              "ticks": ""
             }
            },
            "type": "scatter"
           }
          ],
          "scatter3d": [
           {
            "line": {
             "colorbar": {
              "outlinewidth": 0,
              "ticks": ""
             }
            },
            "marker": {
             "colorbar": {
              "outlinewidth": 0,
              "ticks": ""
             }
            },
            "type": "scatter3d"
           }
          ],
          "scattercarpet": [
           {
            "marker": {
             "colorbar": {
              "outlinewidth": 0,
              "ticks": ""
             }
            },
            "type": "scattercarpet"
           }
          ],
          "scattergeo": [
           {
            "marker": {
             "colorbar": {
              "outlinewidth": 0,
              "ticks": ""
             }
            },
            "type": "scattergeo"
           }
          ],
          "scattergl": [
           {
            "marker": {
             "colorbar": {
              "outlinewidth": 0,
              "ticks": ""
             }
            },
            "type": "scattergl"
           }
          ],
          "scattermapbox": [
           {
            "marker": {
             "colorbar": {
              "outlinewidth": 0,
              "ticks": ""
             }
            },
            "type": "scattermapbox"
           }
          ],
          "scatterpolar": [
           {
            "marker": {
             "colorbar": {
              "outlinewidth": 0,
              "ticks": ""
             }
            },
            "type": "scatterpolar"
           }
          ],
          "scatterpolargl": [
           {
            "marker": {
             "colorbar": {
              "outlinewidth": 0,
              "ticks": ""
             }
            },
            "type": "scatterpolargl"
           }
          ],
          "scatterternary": [
           {
            "marker": {
             "colorbar": {
              "outlinewidth": 0,
              "ticks": ""
             }
            },
            "type": "scatterternary"
           }
          ],
          "surface": [
           {
            "colorbar": {
             "outlinewidth": 0,
             "ticks": ""
            },
            "colorscale": [
             [
              0,
              "#0d0887"
             ],
             [
              0.1111111111111111,
              "#46039f"
             ],
             [
              0.2222222222222222,
              "#7201a8"
             ],
             [
              0.3333333333333333,
              "#9c179e"
             ],
             [
              0.4444444444444444,
              "#bd3786"
             ],
             [
              0.5555555555555556,
              "#d8576b"
             ],
             [
              0.6666666666666666,
              "#ed7953"
             ],
             [
              0.7777777777777778,
              "#fb9f3a"
             ],
             [
              0.8888888888888888,
              "#fdca26"
             ],
             [
              1,
              "#f0f921"
             ]
            ],
            "type": "surface"
           }
          ],
          "table": [
           {
            "cells": {
             "fill": {
              "color": "#EBF0F8"
             },
             "line": {
              "color": "white"
             }
            },
            "header": {
             "fill": {
              "color": "#C8D4E3"
             },
             "line": {
              "color": "white"
             }
            },
            "type": "table"
           }
          ]
         },
         "layout": {
          "annotationdefaults": {
           "arrowcolor": "#2a3f5f",
           "arrowhead": 0,
           "arrowwidth": 1
          },
          "autotypenumbers": "strict",
          "coloraxis": {
           "colorbar": {
            "outlinewidth": 0,
            "ticks": ""
           }
          },
          "colorscale": {
           "diverging": [
            [
             0,
             "#8e0152"
            ],
            [
             0.1,
             "#c51b7d"
            ],
            [
             0.2,
             "#de77ae"
            ],
            [
             0.3,
             "#f1b6da"
            ],
            [
             0.4,
             "#fde0ef"
            ],
            [
             0.5,
             "#f7f7f7"
            ],
            [
             0.6,
             "#e6f5d0"
            ],
            [
             0.7,
             "#b8e186"
            ],
            [
             0.8,
             "#7fbc41"
            ],
            [
             0.9,
             "#4d9221"
            ],
            [
             1,
             "#276419"
            ]
           ],
           "sequential": [
            [
             0,
             "#0d0887"
            ],
            [
             0.1111111111111111,
             "#46039f"
            ],
            [
             0.2222222222222222,
             "#7201a8"
            ],
            [
             0.3333333333333333,
             "#9c179e"
            ],
            [
             0.4444444444444444,
             "#bd3786"
            ],
            [
             0.5555555555555556,
             "#d8576b"
            ],
            [
             0.6666666666666666,
             "#ed7953"
            ],
            [
             0.7777777777777778,
             "#fb9f3a"
            ],
            [
             0.8888888888888888,
             "#fdca26"
            ],
            [
             1,
             "#f0f921"
            ]
           ],
           "sequentialminus": [
            [
             0,
             "#0d0887"
            ],
            [
             0.1111111111111111,
             "#46039f"
            ],
            [
             0.2222222222222222,
             "#7201a8"
            ],
            [
             0.3333333333333333,
             "#9c179e"
            ],
            [
             0.4444444444444444,
             "#bd3786"
            ],
            [
             0.5555555555555556,
             "#d8576b"
            ],
            [
             0.6666666666666666,
             "#ed7953"
            ],
            [
             0.7777777777777778,
             "#fb9f3a"
            ],
            [
             0.8888888888888888,
             "#fdca26"
            ],
            [
             1,
             "#f0f921"
            ]
           ]
          },
          "colorway": [
           "#636efa",
           "#EF553B",
           "#00cc96",
           "#ab63fa",
           "#FFA15A",
           "#19d3f3",
           "#FF6692",
           "#B6E880",
           "#FF97FF",
           "#FECB52"
          ],
          "font": {
           "color": "#2a3f5f"
          },
          "geo": {
           "bgcolor": "white",
           "lakecolor": "white",
           "landcolor": "#E5ECF6",
           "showlakes": true,
           "showland": true,
           "subunitcolor": "white"
          },
          "hoverlabel": {
           "align": "left"
          },
          "hovermode": "closest",
          "mapbox": {
           "style": "light"
          },
          "paper_bgcolor": "white",
          "plot_bgcolor": "#E5ECF6",
          "polar": {
           "angularaxis": {
            "gridcolor": "white",
            "linecolor": "white",
            "ticks": ""
           },
           "bgcolor": "#E5ECF6",
           "radialaxis": {
            "gridcolor": "white",
            "linecolor": "white",
            "ticks": ""
           }
          },
          "scene": {
           "xaxis": {
            "backgroundcolor": "#E5ECF6",
            "gridcolor": "white",
            "gridwidth": 2,
            "linecolor": "white",
            "showbackground": true,
            "ticks": "",
            "zerolinecolor": "white"
           },
           "yaxis": {
            "backgroundcolor": "#E5ECF6",
            "gridcolor": "white",
            "gridwidth": 2,
            "linecolor": "white",
            "showbackground": true,
            "ticks": "",
            "zerolinecolor": "white"
           },
           "zaxis": {
            "backgroundcolor": "#E5ECF6",
            "gridcolor": "white",
            "gridwidth": 2,
            "linecolor": "white",
            "showbackground": true,
            "ticks": "",
            "zerolinecolor": "white"
           }
          },
          "shapedefaults": {
           "line": {
            "color": "#2a3f5f"
           }
          },
          "ternary": {
           "aaxis": {
            "gridcolor": "white",
            "linecolor": "white",
            "ticks": ""
           },
           "baxis": {
            "gridcolor": "white",
            "linecolor": "white",
            "ticks": ""
           },
           "bgcolor": "#E5ECF6",
           "caxis": {
            "gridcolor": "white",
            "linecolor": "white",
            "ticks": ""
           }
          },
          "title": {
           "x": 0.05
          },
          "xaxis": {
           "automargin": true,
           "gridcolor": "white",
           "linecolor": "white",
           "ticks": "",
           "title": {
            "standoff": 15
           },
           "zerolinecolor": "white",
           "zerolinewidth": 2
          },
          "yaxis": {
           "automargin": true,
           "gridcolor": "white",
           "linecolor": "white",
           "ticks": "",
           "title": {
            "standoff": 15
           },
           "zerolinecolor": "white",
           "zerolinewidth": 2
          }
         }
        },
        "title": {
         "text": "Riders assignment treemap"
        }
       }
      },
      "text/html": [
       "<div>                            <div id=\"6eb62c08-f872-4ae9-bd38-5723587a2979\" class=\"plotly-graph-div\" style=\"height:525px; width:100%;\"></div>            <script type=\"text/javascript\">                require([\"plotly\"], function(Plotly) {                    window.PLOTLYENV=window.PLOTLYENV || {};                                    if (document.getElementById(\"6eb62c08-f872-4ae9-bd38-5723587a2979\")) {                    Plotly.newPlot(                        \"6eb62c08-f872-4ae9-bd38-5723587a2979\",                        [{\"branchvalues\": \"total\", \"customdata\": [[0, 100.0, 100.0], [1, 66.66666666666667, 66.66666666666667], [1, 80.0, 80.0], [2, 0.0, 0.0], [0, 100.0, 100.0], [0, 100.0, 100.0], [0, 100.0, 100.0], [0, 100.0, 100.0], [0, 100.0, 100.0], [1, 50.0, 50.0], [0, 100.0, 100.0], [4, 20.0, 20.0], [2, 0.0, 0.0], [1, 66.66666666666667, 66.66666666666667], [0, 100.0, 100.0], [0, 100.0, 100.0], [1, 0.0, 0.0], [1, 66.66666666666667, 66.66666666666667], [1, 80.0, 80.0], [2, 0.0, 0.0], [2, 60.0, 60.0], [0, 100.0, 100.0], [2, 0.0, 0.0], [2, 0.0, 0.0], [3, 0.0, 0.0], [2, 0.0, 0.0], [1, 50.0, 50.0], [2, 0.0, 0.0], [1, 0.0, 0.0], [2, 33.333333333333336, 33.333333333333336], [0, 100.0, 100.0], [1, 50.0, 50.0], [0, 100.0, 100.0], [2, 0.0, 0.0], [1, 50.0, 50.0], [2, 0.0, 0.0], [1, 50.0, 50.0], [3, 0.0, 0.0], [3, 0.0, 0.0], [2, 0.0, 0.0], [0, 100.0, 100.0], [0, 100.0, 100.0], [1, 50.0, 50.0], [2, 0.0, 0.0], [\"(?)\", 64.28571428571429, 64.28571428571429], [4, 20.0, 20.0], [0, 100.0, 100.0], [1, 80.0, 80.0], [2, 0.0, 0.0], [2, 60.0, 60.0], [1, 80.0, 80.0], [\"(?)\", 33.333333333333336, 33.333333333333336], [0, 100.0, 100.0], [1, 0.0, 0.0], [2, 0.0, 0.0], [\"(?)\", 33.333333333333336, 33.333333333333336], [1, 0.0, 0.0]], \"domain\": {\"x\": [0.0, 1.0], \"y\": [0.0, 1.0]}, \"hovertemplate\": \"<b></b>%{label}<br>Riders needed: %{value}<br>Riders assigned: %{customdata[0]}<br> % missing: %{color}\", \"ids\": [\"Cologne/ALTSTADT | K\\u00f6ln\", \"Munich/AU-HAIDHAUSEN | Mnchen Rider\", \"Gelsenkirchen/BAHNHOF | Gelsenkirchen\", \"Hamburg/BARMBEK | Hamburg\", \"Heidelberg/BERHGHEIM | Heidelberg\", \"Berlin/BKIEZ | Berlin\", \"Berlin/CBURG | Berlin\", \"Berlin/CHARLIE | Berlin\", \"Cologne/EHRE | K\\u00f6ln\", \"Hamburg/EIMSBUSH | Hamburg\", \"Berlin/FHAIN | Berlin\", \"Bremen/FINDORFF | Bremen\", \"D\\u00fcsseldorf/FLINGERN | Dsseldorf\", \"Munich/FRAUNHOFER | Mnchen Rider\", \"Berlin/FRIEDENAU | Berlin\", \"Berlin/GBRUNNEN | Berlin\", \"Stuttgart/GUTENBERG | Stuttgart\", \"Munich/HADERN | Mnchen\", \"Dortmund/HANSA | Dortmund\", \"D\\u00fcsseldorf/HERZOG | Dsseldorf\", \"Essen/HOHENZOLLERN | Essen\", \"Cologne/INNEN | K\\u00f6ln\", \"D\\u00fcsseldorf/KAISER | Dsseldorf\", \"Leipzig/KONSTANTIN | Leipzig\", \"Munich/LAIM | Mnchen Rider\", \"Hamburg/LUFT | Hamburg\", \"Berlin/MITTE | Berlin\", \"Berlin/MOABIT | Berlin\", \"Karlsruhe/MUEHLBURG | Karlsruhe\", \"Munich/NEUHAUSEN | Mnchen Rider\", \"Cologne/NIPPES | K\\u00f6ln\", \"Hamburg/OTTENSEN | Hamburg\", \"Berlin/PANKOW | Berlin\", \"Berlin/PBERG | Berlin\", \"Berlin/RUNGE | Berlin\", \"Berlin/SBERG | Berlin\", \"Hamburg/SCHANZE | Hamburg\", \"Munich/SCHWABING | Mnchen Rider\", \"Munich/SENDLINGEN | Mnchen Rider\", \"D\\u00fcsseldorf/STADTBEZIRK 1 | Dsseldorf\", \"Berlin/STEGLITZ | Berlin\", \"Cologne/SUELZ | K\\u00f6ln\", \"Hamburg/WHOOD | Hamburg\", \"Berlin/XBERG | Berlin\", \"Berlin\", \"Bremen\", \"Cologne\", \"Dortmund\", \"D\\u00fcsseldorf\", \"Essen\", \"Gelsenkirchen\", \"Hamburg\", \"Heidelberg\", \"Karlsruhe\", \"Leipzig\", \"Munich\", \"Stuttgart\"], \"labels\": [\"ALTSTADT | K\\u00f6ln\", \"AU-HAIDHAUSEN | Mnchen Rider\", \"BAHNHOF | Gelsenkirchen\", \"BARMBEK | Hamburg\", \"BERHGHEIM | Heidelberg\", \"BKIEZ | Berlin\", \"CBURG | Berlin\", \"CHARLIE | Berlin\", \"EHRE | K\\u00f6ln\", \"EIMSBUSH | Hamburg\", \"FHAIN | Berlin\", \"FINDORFF | Bremen\", \"FLINGERN | Dsseldorf\", \"FRAUNHOFER | Mnchen Rider\", \"FRIEDENAU | Berlin\", \"GBRUNNEN | Berlin\", \"GUTENBERG | Stuttgart\", \"HADERN | Mnchen\", \"HANSA | Dortmund\", \"HERZOG | Dsseldorf\", \"HOHENZOLLERN | Essen\", \"INNEN | K\\u00f6ln\", \"KAISER | Dsseldorf\", \"KONSTANTIN | Leipzig\", \"LAIM | Mnchen Rider\", \"LUFT | Hamburg\", \"MITTE | Berlin\", \"MOABIT | Berlin\", \"MUEHLBURG | Karlsruhe\", \"NEUHAUSEN | Mnchen Rider\", \"NIPPES | K\\u00f6ln\", \"OTTENSEN | Hamburg\", \"PANKOW | Berlin\", \"PBERG | Berlin\", \"RUNGE | Berlin\", \"SBERG | Berlin\", \"SCHANZE | Hamburg\", \"SCHWABING | Mnchen Rider\", \"SENDLINGEN | Mnchen Rider\", \"STADTBEZIRK 1 | Dsseldorf\", \"STEGLITZ | Berlin\", \"SUELZ | K\\u00f6ln\", \"WHOOD | Hamburg\", \"XBERG | Berlin\", \"Berlin\", \"Bremen\", \"Cologne\", \"Dortmund\", \"D\\u00fcsseldorf\", \"Essen\", \"Gelsenkirchen\", \"Hamburg\", \"Heidelberg\", \"Karlsruhe\", \"Leipzig\", \"Munich\", \"Stuttgart\"], \"marker\": {\"coloraxis\": \"coloraxis\", \"colors\": [100.0, 66.66666666666667, 80.0, 0.0, 100.0, 100.0, 100.0, 100.0, 100.0, 50.0, 100.0, 20.0, 0.0, 66.66666666666667, 100.0, 100.0, 0.0, 66.66666666666667, 80.0, 0.0, 60.0, 100.0, 0.0, 0.0, 0.0, 0.0, 50.0, 0.0, 0.0, 33.333333333333336, 100.0, 50.0, 100.0, 0.0, 50.0, 0.0, 50.0, 0.0, 0.0, 0.0, 100.0, 100.0, 50.0, 0.0, 64.28571428571429, 20.0, 100.0, 80.0, 0.0, 60.0, 80.0, 33.333333333333336, 100.0, 0.0, 0.0, 33.333333333333336, 0.0]}, \"name\": \"\", \"parents\": [\"Cologne\", \"Munich\", \"Gelsenkirchen\", \"Hamburg\", \"Heidelberg\", \"Berlin\", \"Berlin\", \"Berlin\", \"Cologne\", \"Hamburg\", \"Berlin\", \"Bremen\", \"D\\u00fcsseldorf\", \"Munich\", \"Berlin\", \"Berlin\", \"Stuttgart\", \"Munich\", \"Dortmund\", \"D\\u00fcsseldorf\", \"Essen\", \"Cologne\", \"D\\u00fcsseldorf\", \"Leipzig\", \"Munich\", \"Hamburg\", \"Berlin\", \"Berlin\", \"Karlsruhe\", \"Munich\", \"Cologne\", \"Hamburg\", \"Berlin\", \"Berlin\", \"Berlin\", \"Berlin\", \"Hamburg\", \"Munich\", \"Munich\", \"D\\u00fcsseldorf\", \"Berlin\", \"Cologne\", \"Hamburg\", \"Berlin\", \"\", \"\", \"\", \"\", \"\", \"\", \"\", \"\", \"\", \"\", \"\", \"\", \"\"], \"type\": \"treemap\", \"values\": [2, 3, 5, 2, 5, 2, 2, 2, 2, 2, 2, 5, 2, 3, 2, 2, 1, 3, 5, 2, 5, 2, 2, 2, 3, 2, 2, 2, 1, 3, 2, 2, 2, 2, 2, 2, 2, 3, 3, 2, 2, 2, 2, 2, 28, 5, 10, 5, 8, 5, 5, 12, 5, 1, 2, 21, 1]}],                        {\"coloraxis\": {\"colorbar\": {\"title\": {\"text\": \"Missing %\"}}, \"colorscale\": [[0.0, \"rgb(12,51,131)\"], [0.25, \"rgb(10,136,186)\"], [0.5, \"rgb(242,211,56)\"], [0.75, \"rgb(242,143,56)\"], [1.0, \"rgb(217,30,30)\"]]}, \"legend\": {\"tracegroupgap\": 0}, \"template\": {\"data\": {\"bar\": [{\"error_x\": {\"color\": \"#2a3f5f\"}, \"error_y\": {\"color\": \"#2a3f5f\"}, \"marker\": {\"line\": {\"color\": \"#E5ECF6\", \"width\": 0.5}}, \"type\": \"bar\"}], \"barpolar\": [{\"marker\": {\"line\": {\"color\": \"#E5ECF6\", \"width\": 0.5}}, \"type\": \"barpolar\"}], \"carpet\": [{\"aaxis\": {\"endlinecolor\": \"#2a3f5f\", \"gridcolor\": \"white\", \"linecolor\": \"white\", \"minorgridcolor\": \"white\", \"startlinecolor\": \"#2a3f5f\"}, \"baxis\": {\"endlinecolor\": \"#2a3f5f\", \"gridcolor\": \"white\", \"linecolor\": \"white\", \"minorgridcolor\": \"white\", \"startlinecolor\": \"#2a3f5f\"}, \"type\": \"carpet\"}], \"choropleth\": [{\"colorbar\": {\"outlinewidth\": 0, \"ticks\": \"\"}, \"type\": \"choropleth\"}], \"contour\": [{\"colorbar\": {\"outlinewidth\": 0, \"ticks\": \"\"}, \"colorscale\": [[0.0, \"#0d0887\"], [0.1111111111111111, \"#46039f\"], [0.2222222222222222, \"#7201a8\"], [0.3333333333333333, \"#9c179e\"], [0.4444444444444444, \"#bd3786\"], [0.5555555555555556, \"#d8576b\"], [0.6666666666666666, \"#ed7953\"], [0.7777777777777778, \"#fb9f3a\"], [0.8888888888888888, \"#fdca26\"], [1.0, \"#f0f921\"]], \"type\": \"contour\"}], \"contourcarpet\": [{\"colorbar\": {\"outlinewidth\": 0, \"ticks\": \"\"}, \"type\": \"contourcarpet\"}], \"heatmap\": [{\"colorbar\": {\"outlinewidth\": 0, \"ticks\": \"\"}, \"colorscale\": [[0.0, \"#0d0887\"], [0.1111111111111111, \"#46039f\"], [0.2222222222222222, \"#7201a8\"], [0.3333333333333333, \"#9c179e\"], [0.4444444444444444, \"#bd3786\"], [0.5555555555555556, \"#d8576b\"], [0.6666666666666666, \"#ed7953\"], [0.7777777777777778, \"#fb9f3a\"], [0.8888888888888888, \"#fdca26\"], [1.0, \"#f0f921\"]], \"type\": \"heatmap\"}], \"heatmapgl\": [{\"colorbar\": {\"outlinewidth\": 0, \"ticks\": \"\"}, \"colorscale\": [[0.0, \"#0d0887\"], [0.1111111111111111, \"#46039f\"], [0.2222222222222222, \"#7201a8\"], [0.3333333333333333, \"#9c179e\"], [0.4444444444444444, \"#bd3786\"], [0.5555555555555556, \"#d8576b\"], [0.6666666666666666, \"#ed7953\"], [0.7777777777777778, \"#fb9f3a\"], [0.8888888888888888, \"#fdca26\"], [1.0, \"#f0f921\"]], \"type\": \"heatmapgl\"}], \"histogram\": [{\"marker\": {\"colorbar\": {\"outlinewidth\": 0, \"ticks\": \"\"}}, \"type\": \"histogram\"}], \"histogram2d\": [{\"colorbar\": {\"outlinewidth\": 0, \"ticks\": \"\"}, \"colorscale\": [[0.0, \"#0d0887\"], [0.1111111111111111, \"#46039f\"], [0.2222222222222222, \"#7201a8\"], [0.3333333333333333, \"#9c179e\"], [0.4444444444444444, \"#bd3786\"], [0.5555555555555556, \"#d8576b\"], [0.6666666666666666, \"#ed7953\"], [0.7777777777777778, \"#fb9f3a\"], [0.8888888888888888, \"#fdca26\"], [1.0, \"#f0f921\"]], \"type\": \"histogram2d\"}], \"histogram2dcontour\": [{\"colorbar\": {\"outlinewidth\": 0, \"ticks\": \"\"}, \"colorscale\": [[0.0, \"#0d0887\"], [0.1111111111111111, \"#46039f\"], [0.2222222222222222, \"#7201a8\"], [0.3333333333333333, \"#9c179e\"], [0.4444444444444444, \"#bd3786\"], [0.5555555555555556, \"#d8576b\"], [0.6666666666666666, \"#ed7953\"], [0.7777777777777778, \"#fb9f3a\"], [0.8888888888888888, \"#fdca26\"], [1.0, \"#f0f921\"]], \"type\": \"histogram2dcontour\"}], \"mesh3d\": [{\"colorbar\": {\"outlinewidth\": 0, \"ticks\": \"\"}, \"type\": \"mesh3d\"}], \"parcoords\": [{\"line\": {\"colorbar\": {\"outlinewidth\": 0, \"ticks\": \"\"}}, \"type\": \"parcoords\"}], \"pie\": [{\"automargin\": true, \"type\": \"pie\"}], \"scatter\": [{\"marker\": {\"colorbar\": {\"outlinewidth\": 0, \"ticks\": \"\"}}, \"type\": \"scatter\"}], \"scatter3d\": [{\"line\": {\"colorbar\": {\"outlinewidth\": 0, \"ticks\": \"\"}}, \"marker\": {\"colorbar\": {\"outlinewidth\": 0, \"ticks\": \"\"}}, \"type\": \"scatter3d\"}], \"scattercarpet\": [{\"marker\": {\"colorbar\": {\"outlinewidth\": 0, \"ticks\": \"\"}}, \"type\": \"scattercarpet\"}], \"scattergeo\": [{\"marker\": {\"colorbar\": {\"outlinewidth\": 0, \"ticks\": \"\"}}, \"type\": \"scattergeo\"}], \"scattergl\": [{\"marker\": {\"colorbar\": {\"outlinewidth\": 0, \"ticks\": \"\"}}, \"type\": \"scattergl\"}], \"scattermapbox\": [{\"marker\": {\"colorbar\": {\"outlinewidth\": 0, \"ticks\": \"\"}}, \"type\": \"scattermapbox\"}], \"scatterpolar\": [{\"marker\": {\"colorbar\": {\"outlinewidth\": 0, \"ticks\": \"\"}}, \"type\": \"scatterpolar\"}], \"scatterpolargl\": [{\"marker\": {\"colorbar\": {\"outlinewidth\": 0, \"ticks\": \"\"}}, \"type\": \"scatterpolargl\"}], \"scatterternary\": [{\"marker\": {\"colorbar\": {\"outlinewidth\": 0, \"ticks\": \"\"}}, \"type\": \"scatterternary\"}], \"surface\": [{\"colorbar\": {\"outlinewidth\": 0, \"ticks\": \"\"}, \"colorscale\": [[0.0, \"#0d0887\"], [0.1111111111111111, \"#46039f\"], [0.2222222222222222, \"#7201a8\"], [0.3333333333333333, \"#9c179e\"], [0.4444444444444444, \"#bd3786\"], [0.5555555555555556, \"#d8576b\"], [0.6666666666666666, \"#ed7953\"], [0.7777777777777778, \"#fb9f3a\"], [0.8888888888888888, \"#fdca26\"], [1.0, \"#f0f921\"]], \"type\": \"surface\"}], \"table\": [{\"cells\": {\"fill\": {\"color\": \"#EBF0F8\"}, \"line\": {\"color\": \"white\"}}, \"header\": {\"fill\": {\"color\": \"#C8D4E3\"}, \"line\": {\"color\": \"white\"}}, \"type\": \"table\"}]}, \"layout\": {\"annotationdefaults\": {\"arrowcolor\": \"#2a3f5f\", \"arrowhead\": 0, \"arrowwidth\": 1}, \"autotypenumbers\": \"strict\", \"coloraxis\": {\"colorbar\": {\"outlinewidth\": 0, \"ticks\": \"\"}}, \"colorscale\": {\"diverging\": [[0, \"#8e0152\"], [0.1, \"#c51b7d\"], [0.2, \"#de77ae\"], [0.3, \"#f1b6da\"], [0.4, \"#fde0ef\"], [0.5, \"#f7f7f7\"], [0.6, \"#e6f5d0\"], [0.7, \"#b8e186\"], [0.8, \"#7fbc41\"], [0.9, \"#4d9221\"], [1, \"#276419\"]], \"sequential\": [[0.0, \"#0d0887\"], [0.1111111111111111, \"#46039f\"], [0.2222222222222222, \"#7201a8\"], [0.3333333333333333, \"#9c179e\"], [0.4444444444444444, \"#bd3786\"], [0.5555555555555556, \"#d8576b\"], [0.6666666666666666, \"#ed7953\"], [0.7777777777777778, \"#fb9f3a\"], [0.8888888888888888, \"#fdca26\"], [1.0, \"#f0f921\"]], \"sequentialminus\": [[0.0, \"#0d0887\"], [0.1111111111111111, \"#46039f\"], [0.2222222222222222, \"#7201a8\"], [0.3333333333333333, \"#9c179e\"], [0.4444444444444444, \"#bd3786\"], [0.5555555555555556, \"#d8576b\"], [0.6666666666666666, \"#ed7953\"], [0.7777777777777778, \"#fb9f3a\"], [0.8888888888888888, \"#fdca26\"], [1.0, \"#f0f921\"]]}, \"colorway\": [\"#636efa\", \"#EF553B\", \"#00cc96\", \"#ab63fa\", \"#FFA15A\", \"#19d3f3\", \"#FF6692\", \"#B6E880\", \"#FF97FF\", \"#FECB52\"], \"font\": {\"color\": \"#2a3f5f\"}, \"geo\": {\"bgcolor\": \"white\", \"lakecolor\": \"white\", \"landcolor\": \"#E5ECF6\", \"showlakes\": true, \"showland\": true, \"subunitcolor\": \"white\"}, \"hoverlabel\": {\"align\": \"left\"}, \"hovermode\": \"closest\", \"mapbox\": {\"style\": \"light\"}, \"paper_bgcolor\": \"white\", \"plot_bgcolor\": \"#E5ECF6\", \"polar\": {\"angularaxis\": {\"gridcolor\": \"white\", \"linecolor\": \"white\", \"ticks\": \"\"}, \"bgcolor\": \"#E5ECF6\", \"radialaxis\": {\"gridcolor\": \"white\", \"linecolor\": \"white\", \"ticks\": \"\"}}, \"scene\": {\"xaxis\": {\"backgroundcolor\": \"#E5ECF6\", \"gridcolor\": \"white\", \"gridwidth\": 2, \"linecolor\": \"white\", \"showbackground\": true, \"ticks\": \"\", \"zerolinecolor\": \"white\"}, \"yaxis\": {\"backgroundcolor\": \"#E5ECF6\", \"gridcolor\": \"white\", \"gridwidth\": 2, \"linecolor\": \"white\", \"showbackground\": true, \"ticks\": \"\", \"zerolinecolor\": \"white\"}, \"zaxis\": {\"backgroundcolor\": \"#E5ECF6\", \"gridcolor\": \"white\", \"gridwidth\": 2, \"linecolor\": \"white\", \"showbackground\": true, \"ticks\": \"\", \"zerolinecolor\": \"white\"}}, \"shapedefaults\": {\"line\": {\"color\": \"#2a3f5f\"}}, \"ternary\": {\"aaxis\": {\"gridcolor\": \"white\", \"linecolor\": \"white\", \"ticks\": \"\"}, \"baxis\": {\"gridcolor\": \"white\", \"linecolor\": \"white\", \"ticks\": \"\"}, \"bgcolor\": \"#E5ECF6\", \"caxis\": {\"gridcolor\": \"white\", \"linecolor\": \"white\", \"ticks\": \"\"}}, \"title\": {\"x\": 0.05}, \"xaxis\": {\"automargin\": true, \"gridcolor\": \"white\", \"linecolor\": \"white\", \"ticks\": \"\", \"title\": {\"standoff\": 15}, \"zerolinecolor\": \"white\", \"zerolinewidth\": 2}, \"yaxis\": {\"automargin\": true, \"gridcolor\": \"white\", \"linecolor\": \"white\", \"ticks\": \"\", \"title\": {\"standoff\": 15}, \"zerolinecolor\": \"white\", \"zerolinewidth\": 2}}}, \"title\": {\"text\": \"Riders assignment treemap\"}},                        {\"responsive\": true}                    ).then(function(){\n",
       "                            \n",
       "var gd = document.getElementById('6eb62c08-f872-4ae9-bd38-5723587a2979');\n",
       "var x = new MutationObserver(function (mutations, observer) {{\n",
       "        var display = window.getComputedStyle(gd).display;\n",
       "        if (!display || display === 'none') {{\n",
       "            console.log([gd, 'removed!']);\n",
       "            Plotly.purge(gd);\n",
       "            observer.disconnect();\n",
       "        }}\n",
       "}});\n",
       "\n",
       "// Listen for the removal of the full notebook cells\n",
       "var notebookContainer = gd.closest('#notebook-container');\n",
       "if (notebookContainer) {{\n",
       "    x.observe(notebookContainer, {childList: true});\n",
       "}}\n",
       "\n",
       "// Listen for the clearing of the current output cell\n",
       "var outputEl = gd.closest('.output');\n",
       "if (outputEl) {{\n",
       "    x.observe(outputEl, {childList: true});\n",
       "}}\n",
       "\n",
       "                        })                };                });            </script>        </div>"
      ]
     },
     "metadata": {},
     "output_type": "display_data"
    }
   ],
   "source": [
    "df = warehouse_assigner.df_forecast\n",
    "df['% missing'] = 100* (df['Need'] - df['Assigned']) / df['Need']\n",
    "\n",
    "fig = px.treemap(df.loc[(df.Need != 0) & (df.Week == 23)], \n",
    "                 path=['City', 'Warehouse'],\n",
    "                 values= 'Need',\n",
    "                 hover_data=['Assigned', '% missing'],\n",
    "                 color = \"% missing\",\n",
    "                color_continuous_scale=px.colors.YIGn,\n",
    "                 title = 'Riders assignment treemap'\n",
    "                )\n",
    "fig.data[0].hovertemplate='<b></b>%{label}'+ '<br>Riders needed: %{value}'+'<br>Riders assigned: %{customdata[0]}'+ '<br> % missing: %{color}'\n",
    "fig.update_layout(coloraxis_colorbar=dict(\n",
    "    title=\"Missing %\"\n",
    ")\n",
    "                 )\n",
    "fig.write_html(\"assign_report_missing.html\")\n",
    "fig.show()\n"
   ]
  },
  {
   "cell_type": "markdown",
   "id": "6c209235",
   "metadata": {},
   "source": [
    "## Write"
   ]
  },
  {
   "cell_type": "code",
   "execution_count": null,
   "id": "8aee1c87",
   "metadata": {},
   "outputs": [],
   "source": [
    "warehouse_assigner.write_output()"
   ]
  },
  {
   "cell_type": "markdown",
   "id": "450eb1b2",
   "metadata": {},
   "source": [
    "## Debug week/city"
   ]
  },
  {
   "cell_type": "code",
   "execution_count": null,
   "id": "8a328954",
   "metadata": {},
   "outputs": [],
   "source": [
    "self = warehouse_assigner\n",
    "week = 22\n",
    "city = 'Berlin'\n",
    "# Select forecast for city and current week\n",
    "forecast = self.df_forecast.loc[(self.df_forecast.Week == week) &\n",
    "                                (self.df_forecast.City == city) &\n",
    "                                (self.df_forecast.max_date_to_assign >= pd.to_datetime(self.today + timedelta(days=2))) &\n",
    "                                (self.df_forecast.Left > 0),\n",
    "                                :]\n",
    "if not forecast.empty:\n",
    "\n",
    "    week_end_date = forecast['max_date_to_assign'].tolist()[0]\n",
    "    riders = self.df_riders.loc[(~self.df_riders.index.isin(self.df_already_assigned.External)) &\n",
    "                                (~self.df_riders.index.isin(self.warehouse_assigned_output.ID)) &\n",
    "                                (self.df_riders['Earliest start date'] <= week_end_date) &\n",
    "                                (self.df_riders.City == city), :]\n",
    "\n",
    "    if not riders.empty :\n",
    "        # Handle cities with single warehouse\n",
    "        if len(forecast.Warehouse.tolist()) == 1:\n",
    "            print(\"Only one warehouse in \"+city)\n",
    "            df_assigned = self.assign_single_warehouse_in_city(forecast, riders)\n",
    "        # Handle generic case\n",
    "        else:\n",
    "            preferences = self.compute_pref_score(forecast, riders)\n",
    "\n",
    "            df_assigned = self.solve_riders_assignment(forecast, riders, preferences)\n",
    "\n",
    "        if not df_assigned.empty:\n",
    "            print(\"Start assignment for w\"+str(week)+\" in \"+city)\n",
    "            # Get city destination ID\n",
    "            df_assigned['destination'] = self.df_stage_id.loc[\n",
    "                self.df_stage_id.City == city, 'Stage ID contract sending'].tolist()[0]\n",
    "            print(\"Assigned \" + str(df_assigned.shape[0]) + \" riders for w\"+str(week)+\" in \"+city)\n",
    "            self.update_output(df_assigned)\n",
    "        else:\n",
    "            print(\"No assignment possible for w\"+str(week)+\" in \"+city)\n",
    "    else:\n",
    "        print(\"No riders for w\"+str(week)+\" in \"+city)\n",
    "else:\n",
    "    print(\"No forecast for w\"+str(week)+\" in \"+city)"
   ]
  }
 ],
 "metadata": {
  "hide_input": false,
  "kernelspec": {
   "display_name": "Python 3",
   "language": "python",
   "name": "python3"
  },
  "language_info": {
   "codemirror_mode": {
    "name": "ipython",
    "version": 3
   },
   "file_extension": ".py",
   "mimetype": "text/x-python",
   "name": "python",
   "nbconvert_exporter": "python",
   "pygments_lexer": "ipython3",
   "version": "3.8.8"
  }
 },
 "nbformat": 4,
 "nbformat_minor": 5
}
